{
 "cells": [
  {
   "cell_type": "markdown",
   "metadata": {},
   "source": [
    "# Student Insight Notebook\n",
    "\n",
    "This notebook has been created the do some analysis on the Student Performance dataset hosted by the UCI Machine Learning Repository available at https://archive.ics.uci.edu/ml/datasets/Student+Performance\n",
    "\n",
    "The purpose of this exercise is to help predict those students who might fail the third year. You need to have a third year grade of atleast 10 or above to pass.  \n",
    "\n",
    "Firstly we shall begin with some descriptive statistcal analysis on the dataset and see if we can draw some conclusipons about the data from them. After that, we shall create a model which should be able to predict that given a student's past performance in the first and second year grades, among other parameters,  (G1 and G2), how likely would she/he be to pass the the final grade (G3) "
   ]
  },
  {
   "cell_type": "markdown",
   "metadata": {},
   "source": [
    "## <u>Section 1 Exploratory Data Analysis</u>"
   ]
  },
  {
   "cell_type": "markdown",
   "metadata": {},
   "source": [
    "First we'll start by importing the dataset"
   ]
  },
  {
   "cell_type": "code",
   "execution_count": 69,
   "metadata": {
    "collapsed": true
   },
   "outputs": [],
   "source": [
    "import pandas as pd\n",
    "import numpy as np\n",
    "import matplotlib.pyplot as plt\n",
    "\n",
    "\n",
    "data = pd.read_csv('Student_data.csv')\n"
   ]
  },
  {
   "cell_type": "markdown",
   "metadata": {},
   "source": [
    "Now let's take a look at the columns of the data. Before the start of any analysis it is always a good idea to really get down and study the data closely. The features (or columns) of the data is always a good place to start. The more we know about the data the better we'll be able to get out of it. "
   ]
  },
  {
   "cell_type": "code",
   "execution_count": 70,
   "metadata": {
    "scrolled": true
   },
   "outputs": [
    {
     "data": {
      "text/plain": [
       "Index(['school', 'sex', 'age', 'address', 'famsize', 'Pstatus', 'Medu', 'Fedu',\n",
       "       'Mjob', 'Fjob', 'reason', 'guardian', 'traveltime', 'studytime',\n",
       "       'failures', 'schoolsup', 'famsup', 'paid', 'activities', 'nursery',\n",
       "       'higher', 'internet', 'romantic', 'famrel', 'freetime', 'goout', 'Dalc',\n",
       "       'Walc', 'health', 'absences', 'G1', 'G2', 'G3'],\n",
       "      dtype='object')"
      ]
     },
     "execution_count": 70,
     "metadata": {},
     "output_type": "execute_result"
    }
   ],
   "source": [
    "data.columns  #Prints out the columns of the data"
   ]
  },
  {
   "cell_type": "markdown",
   "metadata": {},
   "source": [
    "The dataset contains 33 columns that describe the various socio economic aspects of the life of a student. We also note that three columns G1, G2 and G3, which contains the grades of a student for three years. These scores are out of 20. Please refer to student.txt to get further insight about the columns and the kind of values they are designed to hold. I have reproduced it here for ease of reference"
   ]
  },
  {
   "cell_type": "code",
   "execution_count": 71,
   "metadata": {
    "collapsed": true
   },
   "outputs": [],
   "source": [
    "# # %load student.txt\n",
    "# # Attributes for both student-mat.csv (Math course) and student-por.csv (Portuguese language course) datasets:\n",
    "# 1 school - student's school (binary: \"GP\" - Gabriel Pereira or \"MS\" - Mousinho da Silveira)\n",
    "# 2 sex - student's sex (binary: \"F\" - female or \"M\" - male)\n",
    "# 3 age - student's age (numeric: from 15 to 22)\n",
    "# 4 address - student's home address type (binary: \"U\" - urban or \"R\" - rural)\n",
    "# 5 famsize - family size (binary: \"LE3\" - less or equal to 3 or \"GT3\" - greater than 3)\n",
    "# 6 Pstatus - parent's cohabitation status (binary: \"T\" - living together or \"A\" - apart)\n",
    "# 7 Medu - mother's education (numeric: 0 - none,  1 - primary education (4th grade), 2 – 5th to 9th grade, 3 – secondary education or 4 – higher education)\n",
    "# 8 Fedu - father's education (numeric: 0 - none,  1 - primary education (4th grade), 2 – 5th to 9th grade, 3 – secondary education or 4 – higher education)\n",
    "# 9 Mjob - mother's job (nominal: \"teacher\", \"health\" care related, civil \"services\" (e.g. administrative or police), \"at_home\" or \"other\")\n",
    "# 10 Fjob - father's job (nominal: \"teacher\", \"health\" care related, civil \"services\" (e.g. administrative or police), \"at_home\" or \"other\")\n",
    "# 11 reason - reason to choose this school (nominal: close to \"home\", school \"reputation\", \"course\" preference or \"other\")\n",
    "# 12 guardian - student's guardian (nominal: \"mother\", \"father\" or \"other\")\n",
    "# 13 traveltime - home to school travel time (numeric: 1 - <15 min., 2 - 15 to 30 min., 3 - 30 min. to 1 hour, or 4 - >1 hour)\n",
    "# 14 studytime - weekly study time (numeric: 1 - <2 hours, 2 - 2 to 5 hours, 3 - 5 to 10 hours, or 4 - >10 hours)\n",
    "# 15 failures - number of past class failures (numeric: n if 1<=n<3, else 4)\n",
    "# 16 schoolsup - extra educational support (binary: yes or no)\n",
    "# 17 famsup - family educational support (binary: yes or no)\n",
    "# 18 paid - extra paid classes within the course subject (Math or Portuguese) (binary: yes or no)\n",
    "# 19 activities - extra-curricular activities (binary: yes or no)\n",
    "# 20 nursery - attended nursery school (binary: yes or no)\n",
    "# 21 higher - wants to take higher education (binary: yes or no)\n",
    "# 22 internet - Internet access at home (binary: yes or no)\n",
    "# 23 romantic - with a romantic relationship (binary: yes or no)\n",
    "# 24 famrel - quality of family relationships (numeric: from 1 - very bad to 5 - excellent)\n",
    "# 25 freetime - free time after school (numeric: from 1 - very low to 5 - very high)\n",
    "# 26 goout - going out with friends (numeric: from 1 - very low to 5 - very high)\n",
    "# 27 Dalc - workday alcohol consumption (numeric: from 1 - very low to 5 - very high)\n",
    "# 28 Walc - weekend alcohol consumption (numeric: from 1 - very low to 5 - very high)\n",
    "# 29 health - current health status (numeric: from 1 - very bad to 5 - very good)\n",
    "# 30 absences - number of school absences (numeric: from 0 to 93)\n",
    "\n",
    "# # these grades are related with the course subject, Math or Portuguese:\n",
    "# 31 G1 - first period grade (numeric: from 0 to 20)\n",
    "# 31 G2 - second period grade (numeric: from 0 to 20)\n",
    "# 32 G3 - final grade (numeric: from 0 to 20, output target)\n",
    "\n",
    "# Additional note: there are several (382) students that belong to both datasets . \n",
    "# These students can be identified by searching for identical attributes\n",
    "# that characterize each student, as shown in the annexed R file.\n"
   ]
  },
  {
   "cell_type": "markdown",
   "metadata": {},
   "source": [
    "Now that we've got some idea about the features of our data, Let's print out the first 20 colums of the data to see the actual data "
   ]
  },
  {
   "cell_type": "code",
   "execution_count": 72,
   "metadata": {},
   "outputs": [
    {
     "data": {
      "text/html": [
       "<div>\n",
       "<table border=\"1\" class=\"dataframe\">\n",
       "  <thead>\n",
       "    <tr style=\"text-align: right;\">\n",
       "      <th></th>\n",
       "      <th>school</th>\n",
       "      <th>sex</th>\n",
       "      <th>age</th>\n",
       "      <th>address</th>\n",
       "      <th>famsize</th>\n",
       "      <th>Pstatus</th>\n",
       "      <th>Medu</th>\n",
       "      <th>Fedu</th>\n",
       "      <th>Mjob</th>\n",
       "      <th>Fjob</th>\n",
       "      <th>...</th>\n",
       "      <th>famrel</th>\n",
       "      <th>freetime</th>\n",
       "      <th>goout</th>\n",
       "      <th>Dalc</th>\n",
       "      <th>Walc</th>\n",
       "      <th>health</th>\n",
       "      <th>absences</th>\n",
       "      <th>G1</th>\n",
       "      <th>G2</th>\n",
       "      <th>G3</th>\n",
       "    </tr>\n",
       "  </thead>\n",
       "  <tbody>\n",
       "    <tr>\n",
       "      <th>0</th>\n",
       "      <td>GP</td>\n",
       "      <td>F</td>\n",
       "      <td>18</td>\n",
       "      <td>U</td>\n",
       "      <td>GT3</td>\n",
       "      <td>A</td>\n",
       "      <td>4</td>\n",
       "      <td>4</td>\n",
       "      <td>at_home</td>\n",
       "      <td>teacher</td>\n",
       "      <td>...</td>\n",
       "      <td>4</td>\n",
       "      <td>3</td>\n",
       "      <td>4</td>\n",
       "      <td>1</td>\n",
       "      <td>1</td>\n",
       "      <td>3</td>\n",
       "      <td>4</td>\n",
       "      <td>0</td>\n",
       "      <td>11</td>\n",
       "      <td>11</td>\n",
       "    </tr>\n",
       "    <tr>\n",
       "      <th>1</th>\n",
       "      <td>GP</td>\n",
       "      <td>F</td>\n",
       "      <td>17</td>\n",
       "      <td>U</td>\n",
       "      <td>GT3</td>\n",
       "      <td>T</td>\n",
       "      <td>1</td>\n",
       "      <td>1</td>\n",
       "      <td>at_home</td>\n",
       "      <td>other</td>\n",
       "      <td>...</td>\n",
       "      <td>5</td>\n",
       "      <td>3</td>\n",
       "      <td>3</td>\n",
       "      <td>1</td>\n",
       "      <td>1</td>\n",
       "      <td>3</td>\n",
       "      <td>2</td>\n",
       "      <td>9</td>\n",
       "      <td>11</td>\n",
       "      <td>11</td>\n",
       "    </tr>\n",
       "    <tr>\n",
       "      <th>2</th>\n",
       "      <td>GP</td>\n",
       "      <td>F</td>\n",
       "      <td>15</td>\n",
       "      <td>U</td>\n",
       "      <td>LE3</td>\n",
       "      <td>T</td>\n",
       "      <td>1</td>\n",
       "      <td>1</td>\n",
       "      <td>at_home</td>\n",
       "      <td>other</td>\n",
       "      <td>...</td>\n",
       "      <td>4</td>\n",
       "      <td>3</td>\n",
       "      <td>2</td>\n",
       "      <td>2</td>\n",
       "      <td>3</td>\n",
       "      <td>3</td>\n",
       "      <td>6</td>\n",
       "      <td>12</td>\n",
       "      <td>13</td>\n",
       "      <td>12</td>\n",
       "    </tr>\n",
       "    <tr>\n",
       "      <th>3</th>\n",
       "      <td>GP</td>\n",
       "      <td>F</td>\n",
       "      <td>15</td>\n",
       "      <td>U</td>\n",
       "      <td>GT3</td>\n",
       "      <td>T</td>\n",
       "      <td>4</td>\n",
       "      <td>2</td>\n",
       "      <td>health</td>\n",
       "      <td>services</td>\n",
       "      <td>...</td>\n",
       "      <td>3</td>\n",
       "      <td>2</td>\n",
       "      <td>2</td>\n",
       "      <td>1</td>\n",
       "      <td>1</td>\n",
       "      <td>5</td>\n",
       "      <td>0</td>\n",
       "      <td>14</td>\n",
       "      <td>14</td>\n",
       "      <td>14</td>\n",
       "    </tr>\n",
       "    <tr>\n",
       "      <th>4</th>\n",
       "      <td>GP</td>\n",
       "      <td>F</td>\n",
       "      <td>16</td>\n",
       "      <td>U</td>\n",
       "      <td>GT3</td>\n",
       "      <td>T</td>\n",
       "      <td>3</td>\n",
       "      <td>3</td>\n",
       "      <td>other</td>\n",
       "      <td>other</td>\n",
       "      <td>...</td>\n",
       "      <td>4</td>\n",
       "      <td>3</td>\n",
       "      <td>2</td>\n",
       "      <td>1</td>\n",
       "      <td>2</td>\n",
       "      <td>5</td>\n",
       "      <td>0</td>\n",
       "      <td>11</td>\n",
       "      <td>13</td>\n",
       "      <td>13</td>\n",
       "    </tr>\n",
       "    <tr>\n",
       "      <th>5</th>\n",
       "      <td>GP</td>\n",
       "      <td>M</td>\n",
       "      <td>16</td>\n",
       "      <td>U</td>\n",
       "      <td>LE3</td>\n",
       "      <td>T</td>\n",
       "      <td>4</td>\n",
       "      <td>3</td>\n",
       "      <td>services</td>\n",
       "      <td>other</td>\n",
       "      <td>...</td>\n",
       "      <td>5</td>\n",
       "      <td>4</td>\n",
       "      <td>2</td>\n",
       "      <td>1</td>\n",
       "      <td>2</td>\n",
       "      <td>5</td>\n",
       "      <td>6</td>\n",
       "      <td>12</td>\n",
       "      <td>12</td>\n",
       "      <td>13</td>\n",
       "    </tr>\n",
       "    <tr>\n",
       "      <th>6</th>\n",
       "      <td>GP</td>\n",
       "      <td>M</td>\n",
       "      <td>16</td>\n",
       "      <td>U</td>\n",
       "      <td>LE3</td>\n",
       "      <td>T</td>\n",
       "      <td>2</td>\n",
       "      <td>2</td>\n",
       "      <td>other</td>\n",
       "      <td>other</td>\n",
       "      <td>...</td>\n",
       "      <td>4</td>\n",
       "      <td>4</td>\n",
       "      <td>4</td>\n",
       "      <td>1</td>\n",
       "      <td>1</td>\n",
       "      <td>3</td>\n",
       "      <td>0</td>\n",
       "      <td>13</td>\n",
       "      <td>12</td>\n",
       "      <td>13</td>\n",
       "    </tr>\n",
       "    <tr>\n",
       "      <th>7</th>\n",
       "      <td>GP</td>\n",
       "      <td>F</td>\n",
       "      <td>17</td>\n",
       "      <td>U</td>\n",
       "      <td>GT3</td>\n",
       "      <td>A</td>\n",
       "      <td>4</td>\n",
       "      <td>4</td>\n",
       "      <td>other</td>\n",
       "      <td>teacher</td>\n",
       "      <td>...</td>\n",
       "      <td>4</td>\n",
       "      <td>1</td>\n",
       "      <td>4</td>\n",
       "      <td>1</td>\n",
       "      <td>1</td>\n",
       "      <td>1</td>\n",
       "      <td>2</td>\n",
       "      <td>10</td>\n",
       "      <td>13</td>\n",
       "      <td>13</td>\n",
       "    </tr>\n",
       "    <tr>\n",
       "      <th>8</th>\n",
       "      <td>GP</td>\n",
       "      <td>M</td>\n",
       "      <td>15</td>\n",
       "      <td>U</td>\n",
       "      <td>LE3</td>\n",
       "      <td>A</td>\n",
       "      <td>3</td>\n",
       "      <td>2</td>\n",
       "      <td>services</td>\n",
       "      <td>other</td>\n",
       "      <td>...</td>\n",
       "      <td>4</td>\n",
       "      <td>2</td>\n",
       "      <td>2</td>\n",
       "      <td>1</td>\n",
       "      <td>1</td>\n",
       "      <td>1</td>\n",
       "      <td>0</td>\n",
       "      <td>15</td>\n",
       "      <td>16</td>\n",
       "      <td>17</td>\n",
       "    </tr>\n",
       "    <tr>\n",
       "      <th>9</th>\n",
       "      <td>GP</td>\n",
       "      <td>M</td>\n",
       "      <td>15</td>\n",
       "      <td>U</td>\n",
       "      <td>GT3</td>\n",
       "      <td>T</td>\n",
       "      <td>3</td>\n",
       "      <td>4</td>\n",
       "      <td>other</td>\n",
       "      <td>other</td>\n",
       "      <td>...</td>\n",
       "      <td>5</td>\n",
       "      <td>5</td>\n",
       "      <td>1</td>\n",
       "      <td>1</td>\n",
       "      <td>1</td>\n",
       "      <td>5</td>\n",
       "      <td>0</td>\n",
       "      <td>12</td>\n",
       "      <td>12</td>\n",
       "      <td>13</td>\n",
       "    </tr>\n",
       "    <tr>\n",
       "      <th>10</th>\n",
       "      <td>GP</td>\n",
       "      <td>F</td>\n",
       "      <td>15</td>\n",
       "      <td>U</td>\n",
       "      <td>GT3</td>\n",
       "      <td>T</td>\n",
       "      <td>4</td>\n",
       "      <td>4</td>\n",
       "      <td>teacher</td>\n",
       "      <td>health</td>\n",
       "      <td>...</td>\n",
       "      <td>3</td>\n",
       "      <td>3</td>\n",
       "      <td>3</td>\n",
       "      <td>1</td>\n",
       "      <td>2</td>\n",
       "      <td>2</td>\n",
       "      <td>2</td>\n",
       "      <td>14</td>\n",
       "      <td>14</td>\n",
       "      <td>14</td>\n",
       "    </tr>\n",
       "    <tr>\n",
       "      <th>11</th>\n",
       "      <td>GP</td>\n",
       "      <td>F</td>\n",
       "      <td>15</td>\n",
       "      <td>U</td>\n",
       "      <td>GT3</td>\n",
       "      <td>T</td>\n",
       "      <td>2</td>\n",
       "      <td>1</td>\n",
       "      <td>services</td>\n",
       "      <td>other</td>\n",
       "      <td>...</td>\n",
       "      <td>5</td>\n",
       "      <td>2</td>\n",
       "      <td>2</td>\n",
       "      <td>1</td>\n",
       "      <td>1</td>\n",
       "      <td>4</td>\n",
       "      <td>0</td>\n",
       "      <td>10</td>\n",
       "      <td>12</td>\n",
       "      <td>13</td>\n",
       "    </tr>\n",
       "    <tr>\n",
       "      <th>12</th>\n",
       "      <td>GP</td>\n",
       "      <td>M</td>\n",
       "      <td>15</td>\n",
       "      <td>U</td>\n",
       "      <td>LE3</td>\n",
       "      <td>T</td>\n",
       "      <td>4</td>\n",
       "      <td>4</td>\n",
       "      <td>health</td>\n",
       "      <td>services</td>\n",
       "      <td>...</td>\n",
       "      <td>4</td>\n",
       "      <td>3</td>\n",
       "      <td>3</td>\n",
       "      <td>1</td>\n",
       "      <td>3</td>\n",
       "      <td>5</td>\n",
       "      <td>0</td>\n",
       "      <td>12</td>\n",
       "      <td>13</td>\n",
       "      <td>12</td>\n",
       "    </tr>\n",
       "    <tr>\n",
       "      <th>13</th>\n",
       "      <td>GP</td>\n",
       "      <td>M</td>\n",
       "      <td>15</td>\n",
       "      <td>U</td>\n",
       "      <td>GT3</td>\n",
       "      <td>T</td>\n",
       "      <td>4</td>\n",
       "      <td>3</td>\n",
       "      <td>teacher</td>\n",
       "      <td>other</td>\n",
       "      <td>...</td>\n",
       "      <td>5</td>\n",
       "      <td>4</td>\n",
       "      <td>3</td>\n",
       "      <td>1</td>\n",
       "      <td>2</td>\n",
       "      <td>3</td>\n",
       "      <td>0</td>\n",
       "      <td>12</td>\n",
       "      <td>12</td>\n",
       "      <td>13</td>\n",
       "    </tr>\n",
       "    <tr>\n",
       "      <th>14</th>\n",
       "      <td>GP</td>\n",
       "      <td>M</td>\n",
       "      <td>15</td>\n",
       "      <td>U</td>\n",
       "      <td>GT3</td>\n",
       "      <td>A</td>\n",
       "      <td>2</td>\n",
       "      <td>2</td>\n",
       "      <td>other</td>\n",
       "      <td>other</td>\n",
       "      <td>...</td>\n",
       "      <td>4</td>\n",
       "      <td>5</td>\n",
       "      <td>2</td>\n",
       "      <td>1</td>\n",
       "      <td>1</td>\n",
       "      <td>3</td>\n",
       "      <td>0</td>\n",
       "      <td>14</td>\n",
       "      <td>14</td>\n",
       "      <td>15</td>\n",
       "    </tr>\n",
       "    <tr>\n",
       "      <th>15</th>\n",
       "      <td>GP</td>\n",
       "      <td>F</td>\n",
       "      <td>16</td>\n",
       "      <td>U</td>\n",
       "      <td>GT3</td>\n",
       "      <td>T</td>\n",
       "      <td>4</td>\n",
       "      <td>4</td>\n",
       "      <td>health</td>\n",
       "      <td>other</td>\n",
       "      <td>...</td>\n",
       "      <td>4</td>\n",
       "      <td>4</td>\n",
       "      <td>4</td>\n",
       "      <td>1</td>\n",
       "      <td>2</td>\n",
       "      <td>2</td>\n",
       "      <td>6</td>\n",
       "      <td>17</td>\n",
       "      <td>17</td>\n",
       "      <td>17</td>\n",
       "    </tr>\n",
       "    <tr>\n",
       "      <th>16</th>\n",
       "      <td>GP</td>\n",
       "      <td>F</td>\n",
       "      <td>16</td>\n",
       "      <td>U</td>\n",
       "      <td>GT3</td>\n",
       "      <td>T</td>\n",
       "      <td>4</td>\n",
       "      <td>4</td>\n",
       "      <td>services</td>\n",
       "      <td>services</td>\n",
       "      <td>...</td>\n",
       "      <td>3</td>\n",
       "      <td>2</td>\n",
       "      <td>3</td>\n",
       "      <td>1</td>\n",
       "      <td>2</td>\n",
       "      <td>2</td>\n",
       "      <td>10</td>\n",
       "      <td>13</td>\n",
       "      <td>13</td>\n",
       "      <td>14</td>\n",
       "    </tr>\n",
       "    <tr>\n",
       "      <th>17</th>\n",
       "      <td>GP</td>\n",
       "      <td>F</td>\n",
       "      <td>16</td>\n",
       "      <td>U</td>\n",
       "      <td>GT3</td>\n",
       "      <td>T</td>\n",
       "      <td>3</td>\n",
       "      <td>3</td>\n",
       "      <td>other</td>\n",
       "      <td>other</td>\n",
       "      <td>...</td>\n",
       "      <td>5</td>\n",
       "      <td>3</td>\n",
       "      <td>2</td>\n",
       "      <td>1</td>\n",
       "      <td>1</td>\n",
       "      <td>4</td>\n",
       "      <td>2</td>\n",
       "      <td>13</td>\n",
       "      <td>14</td>\n",
       "      <td>14</td>\n",
       "    </tr>\n",
       "    <tr>\n",
       "      <th>18</th>\n",
       "      <td>GP</td>\n",
       "      <td>M</td>\n",
       "      <td>17</td>\n",
       "      <td>U</td>\n",
       "      <td>GT3</td>\n",
       "      <td>T</td>\n",
       "      <td>3</td>\n",
       "      <td>2</td>\n",
       "      <td>services</td>\n",
       "      <td>services</td>\n",
       "      <td>...</td>\n",
       "      <td>5</td>\n",
       "      <td>5</td>\n",
       "      <td>5</td>\n",
       "      <td>2</td>\n",
       "      <td>4</td>\n",
       "      <td>5</td>\n",
       "      <td>2</td>\n",
       "      <td>8</td>\n",
       "      <td>8</td>\n",
       "      <td>7</td>\n",
       "    </tr>\n",
       "    <tr>\n",
       "      <th>19</th>\n",
       "      <td>GP</td>\n",
       "      <td>M</td>\n",
       "      <td>16</td>\n",
       "      <td>U</td>\n",
       "      <td>LE3</td>\n",
       "      <td>T</td>\n",
       "      <td>4</td>\n",
       "      <td>3</td>\n",
       "      <td>health</td>\n",
       "      <td>other</td>\n",
       "      <td>...</td>\n",
       "      <td>3</td>\n",
       "      <td>1</td>\n",
       "      <td>3</td>\n",
       "      <td>1</td>\n",
       "      <td>3</td>\n",
       "      <td>5</td>\n",
       "      <td>6</td>\n",
       "      <td>12</td>\n",
       "      <td>12</td>\n",
       "      <td>12</td>\n",
       "    </tr>\n",
       "  </tbody>\n",
       "</table>\n",
       "<p>20 rows × 33 columns</p>\n",
       "</div>"
      ],
      "text/plain": [
       "   school sex  age address famsize Pstatus  Medu  Fedu      Mjob      Fjob  \\\n",
       "0      GP   F   18       U     GT3       A     4     4   at_home   teacher   \n",
       "1      GP   F   17       U     GT3       T     1     1   at_home     other   \n",
       "2      GP   F   15       U     LE3       T     1     1   at_home     other   \n",
       "3      GP   F   15       U     GT3       T     4     2    health  services   \n",
       "4      GP   F   16       U     GT3       T     3     3     other     other   \n",
       "5      GP   M   16       U     LE3       T     4     3  services     other   \n",
       "6      GP   M   16       U     LE3       T     2     2     other     other   \n",
       "7      GP   F   17       U     GT3       A     4     4     other   teacher   \n",
       "8      GP   M   15       U     LE3       A     3     2  services     other   \n",
       "9      GP   M   15       U     GT3       T     3     4     other     other   \n",
       "10     GP   F   15       U     GT3       T     4     4   teacher    health   \n",
       "11     GP   F   15       U     GT3       T     2     1  services     other   \n",
       "12     GP   M   15       U     LE3       T     4     4    health  services   \n",
       "13     GP   M   15       U     GT3       T     4     3   teacher     other   \n",
       "14     GP   M   15       U     GT3       A     2     2     other     other   \n",
       "15     GP   F   16       U     GT3       T     4     4    health     other   \n",
       "16     GP   F   16       U     GT3       T     4     4  services  services   \n",
       "17     GP   F   16       U     GT3       T     3     3     other     other   \n",
       "18     GP   M   17       U     GT3       T     3     2  services  services   \n",
       "19     GP   M   16       U     LE3       T     4     3    health     other   \n",
       "\n",
       "   ... famrel freetime  goout  Dalc  Walc health absences  G1  G2  G3  \n",
       "0  ...      4        3      4     1     1      3        4   0  11  11  \n",
       "1  ...      5        3      3     1     1      3        2   9  11  11  \n",
       "2  ...      4        3      2     2     3      3        6  12  13  12  \n",
       "3  ...      3        2      2     1     1      5        0  14  14  14  \n",
       "4  ...      4        3      2     1     2      5        0  11  13  13  \n",
       "5  ...      5        4      2     1     2      5        6  12  12  13  \n",
       "6  ...      4        4      4     1     1      3        0  13  12  13  \n",
       "7  ...      4        1      4     1     1      1        2  10  13  13  \n",
       "8  ...      4        2      2     1     1      1        0  15  16  17  \n",
       "9  ...      5        5      1     1     1      5        0  12  12  13  \n",
       "10 ...      3        3      3     1     2      2        2  14  14  14  \n",
       "11 ...      5        2      2     1     1      4        0  10  12  13  \n",
       "12 ...      4        3      3     1     3      5        0  12  13  12  \n",
       "13 ...      5        4      3     1     2      3        0  12  12  13  \n",
       "14 ...      4        5      2     1     1      3        0  14  14  15  \n",
       "15 ...      4        4      4     1     2      2        6  17  17  17  \n",
       "16 ...      3        2      3     1     2      2       10  13  13  14  \n",
       "17 ...      5        3      2     1     1      4        2  13  14  14  \n",
       "18 ...      5        5      5     2     4      5        2   8   8   7  \n",
       "19 ...      3        1      3     1     3      5        6  12  12  12  \n",
       "\n",
       "[20 rows x 33 columns]"
      ]
     },
     "execution_count": 72,
     "metadata": {},
     "output_type": "execute_result"
    }
   ],
   "source": [
    "data[:20] #Print out the first 20 rows of the data"
   ]
  },
  {
   "cell_type": "markdown",
   "metadata": {},
   "source": [
    "So one thing that immediately stands out is that a good chunk of the data here is <b>categorical</b> in nature, that's one thing that'll we'll need to keep in mind while doing analysis or modelling the data. Also let's generate a preliminary summary statistic for the data"
   ]
  },
  {
   "cell_type": "code",
   "execution_count": 73,
   "metadata": {},
   "outputs": [
    {
     "data": {
      "text/html": [
       "<div>\n",
       "<table border=\"1\" class=\"dataframe\">\n",
       "  <thead>\n",
       "    <tr style=\"text-align: right;\">\n",
       "      <th></th>\n",
       "      <th>age</th>\n",
       "      <th>Medu</th>\n",
       "      <th>Fedu</th>\n",
       "      <th>traveltime</th>\n",
       "      <th>studytime</th>\n",
       "      <th>failures</th>\n",
       "      <th>famrel</th>\n",
       "      <th>freetime</th>\n",
       "      <th>goout</th>\n",
       "      <th>Dalc</th>\n",
       "      <th>Walc</th>\n",
       "      <th>health</th>\n",
       "      <th>absences</th>\n",
       "      <th>G1</th>\n",
       "      <th>G2</th>\n",
       "      <th>G3</th>\n",
       "    </tr>\n",
       "  </thead>\n",
       "  <tbody>\n",
       "    <tr>\n",
       "      <th>count</th>\n",
       "      <td>1044.000000</td>\n",
       "      <td>1044.000000</td>\n",
       "      <td>1044.000000</td>\n",
       "      <td>1044.000000</td>\n",
       "      <td>1044.000000</td>\n",
       "      <td>1044.000000</td>\n",
       "      <td>1044.000000</td>\n",
       "      <td>1044.000000</td>\n",
       "      <td>1044.000000</td>\n",
       "      <td>1044.000000</td>\n",
       "      <td>1044.000000</td>\n",
       "      <td>1044.000000</td>\n",
       "      <td>1044.000000</td>\n",
       "      <td>1044.000000</td>\n",
       "      <td>1044.000000</td>\n",
       "      <td>1044.000000</td>\n",
       "    </tr>\n",
       "    <tr>\n",
       "      <th>mean</th>\n",
       "      <td>16.726054</td>\n",
       "      <td>2.603448</td>\n",
       "      <td>2.387931</td>\n",
       "      <td>1.522989</td>\n",
       "      <td>1.970307</td>\n",
       "      <td>0.264368</td>\n",
       "      <td>3.935824</td>\n",
       "      <td>3.201149</td>\n",
       "      <td>3.156130</td>\n",
       "      <td>1.494253</td>\n",
       "      <td>2.284483</td>\n",
       "      <td>3.543103</td>\n",
       "      <td>4.434866</td>\n",
       "      <td>11.213602</td>\n",
       "      <td>11.246169</td>\n",
       "      <td>11.341954</td>\n",
       "    </tr>\n",
       "    <tr>\n",
       "      <th>std</th>\n",
       "      <td>1.239975</td>\n",
       "      <td>1.124907</td>\n",
       "      <td>1.099938</td>\n",
       "      <td>0.731727</td>\n",
       "      <td>0.834353</td>\n",
       "      <td>0.656142</td>\n",
       "      <td>0.933401</td>\n",
       "      <td>1.031507</td>\n",
       "      <td>1.152575</td>\n",
       "      <td>0.911714</td>\n",
       "      <td>1.285105</td>\n",
       "      <td>1.424703</td>\n",
       "      <td>6.210017</td>\n",
       "      <td>2.983394</td>\n",
       "      <td>3.285071</td>\n",
       "      <td>3.864796</td>\n",
       "    </tr>\n",
       "    <tr>\n",
       "      <th>min</th>\n",
       "      <td>15.000000</td>\n",
       "      <td>0.000000</td>\n",
       "      <td>0.000000</td>\n",
       "      <td>1.000000</td>\n",
       "      <td>1.000000</td>\n",
       "      <td>0.000000</td>\n",
       "      <td>1.000000</td>\n",
       "      <td>1.000000</td>\n",
       "      <td>1.000000</td>\n",
       "      <td>1.000000</td>\n",
       "      <td>1.000000</td>\n",
       "      <td>1.000000</td>\n",
       "      <td>0.000000</td>\n",
       "      <td>0.000000</td>\n",
       "      <td>0.000000</td>\n",
       "      <td>0.000000</td>\n",
       "    </tr>\n",
       "    <tr>\n",
       "      <th>25%</th>\n",
       "      <td>16.000000</td>\n",
       "      <td>2.000000</td>\n",
       "      <td>1.000000</td>\n",
       "      <td>1.000000</td>\n",
       "      <td>1.000000</td>\n",
       "      <td>0.000000</td>\n",
       "      <td>4.000000</td>\n",
       "      <td>3.000000</td>\n",
       "      <td>2.000000</td>\n",
       "      <td>1.000000</td>\n",
       "      <td>1.000000</td>\n",
       "      <td>3.000000</td>\n",
       "      <td>0.000000</td>\n",
       "      <td>9.000000</td>\n",
       "      <td>9.000000</td>\n",
       "      <td>10.000000</td>\n",
       "    </tr>\n",
       "    <tr>\n",
       "      <th>50%</th>\n",
       "      <td>17.000000</td>\n",
       "      <td>3.000000</td>\n",
       "      <td>2.000000</td>\n",
       "      <td>1.000000</td>\n",
       "      <td>2.000000</td>\n",
       "      <td>0.000000</td>\n",
       "      <td>4.000000</td>\n",
       "      <td>3.000000</td>\n",
       "      <td>3.000000</td>\n",
       "      <td>1.000000</td>\n",
       "      <td>2.000000</td>\n",
       "      <td>4.000000</td>\n",
       "      <td>2.000000</td>\n",
       "      <td>11.000000</td>\n",
       "      <td>11.000000</td>\n",
       "      <td>11.000000</td>\n",
       "    </tr>\n",
       "    <tr>\n",
       "      <th>75%</th>\n",
       "      <td>18.000000</td>\n",
       "      <td>4.000000</td>\n",
       "      <td>3.000000</td>\n",
       "      <td>2.000000</td>\n",
       "      <td>2.000000</td>\n",
       "      <td>0.000000</td>\n",
       "      <td>5.000000</td>\n",
       "      <td>4.000000</td>\n",
       "      <td>4.000000</td>\n",
       "      <td>2.000000</td>\n",
       "      <td>3.000000</td>\n",
       "      <td>5.000000</td>\n",
       "      <td>6.000000</td>\n",
       "      <td>13.000000</td>\n",
       "      <td>13.000000</td>\n",
       "      <td>14.000000</td>\n",
       "    </tr>\n",
       "    <tr>\n",
       "      <th>max</th>\n",
       "      <td>22.000000</td>\n",
       "      <td>4.000000</td>\n",
       "      <td>4.000000</td>\n",
       "      <td>4.000000</td>\n",
       "      <td>4.000000</td>\n",
       "      <td>3.000000</td>\n",
       "      <td>5.000000</td>\n",
       "      <td>5.000000</td>\n",
       "      <td>5.000000</td>\n",
       "      <td>5.000000</td>\n",
       "      <td>5.000000</td>\n",
       "      <td>5.000000</td>\n",
       "      <td>75.000000</td>\n",
       "      <td>19.000000</td>\n",
       "      <td>19.000000</td>\n",
       "      <td>20.000000</td>\n",
       "    </tr>\n",
       "  </tbody>\n",
       "</table>\n",
       "</div>"
      ],
      "text/plain": [
       "               age         Medu         Fedu   traveltime    studytime  \\\n",
       "count  1044.000000  1044.000000  1044.000000  1044.000000  1044.000000   \n",
       "mean     16.726054     2.603448     2.387931     1.522989     1.970307   \n",
       "std       1.239975     1.124907     1.099938     0.731727     0.834353   \n",
       "min      15.000000     0.000000     0.000000     1.000000     1.000000   \n",
       "25%      16.000000     2.000000     1.000000     1.000000     1.000000   \n",
       "50%      17.000000     3.000000     2.000000     1.000000     2.000000   \n",
       "75%      18.000000     4.000000     3.000000     2.000000     2.000000   \n",
       "max      22.000000     4.000000     4.000000     4.000000     4.000000   \n",
       "\n",
       "          failures       famrel     freetime        goout         Dalc  \\\n",
       "count  1044.000000  1044.000000  1044.000000  1044.000000  1044.000000   \n",
       "mean      0.264368     3.935824     3.201149     3.156130     1.494253   \n",
       "std       0.656142     0.933401     1.031507     1.152575     0.911714   \n",
       "min       0.000000     1.000000     1.000000     1.000000     1.000000   \n",
       "25%       0.000000     4.000000     3.000000     2.000000     1.000000   \n",
       "50%       0.000000     4.000000     3.000000     3.000000     1.000000   \n",
       "75%       0.000000     5.000000     4.000000     4.000000     2.000000   \n",
       "max       3.000000     5.000000     5.000000     5.000000     5.000000   \n",
       "\n",
       "              Walc       health     absences           G1           G2  \\\n",
       "count  1044.000000  1044.000000  1044.000000  1044.000000  1044.000000   \n",
       "mean      2.284483     3.543103     4.434866    11.213602    11.246169   \n",
       "std       1.285105     1.424703     6.210017     2.983394     3.285071   \n",
       "min       1.000000     1.000000     0.000000     0.000000     0.000000   \n",
       "25%       1.000000     3.000000     0.000000     9.000000     9.000000   \n",
       "50%       2.000000     4.000000     2.000000    11.000000    11.000000   \n",
       "75%       3.000000     5.000000     6.000000    13.000000    13.000000   \n",
       "max       5.000000     5.000000    75.000000    19.000000    19.000000   \n",
       "\n",
       "                G3  \n",
       "count  1044.000000  \n",
       "mean     11.341954  \n",
       "std       3.864796  \n",
       "min       0.000000  \n",
       "25%      10.000000  \n",
       "50%      11.000000  \n",
       "75%      14.000000  \n",
       "max      20.000000  "
      ]
     },
     "execution_count": 73,
     "metadata": {},
     "output_type": "execute_result"
    }
   ],
   "source": [
    "data.describe()"
   ]
  },
  {
   "cell_type": "markdown",
   "metadata": {},
   "source": [
    "### <u>Analysis Plan</u>\n",
    "\n",
    "As learned from observing the colums of the dataset, we see that the data is coming from quite a diverse pool of sources. Various socio economic factors such as the mother's education and income, social interaction, the exisitence of a romantic relationship etc.. have been considered. It will be a worthwhile exercise to group these features into similar groups, and then analyze if the features of those groups have any significance on the students performance. For eg, we could get answers to questions like whether or not the father or mother's occupation affect student performance or does age and gender of a student play a role in determing the performance. \n",
    "\n",
    "I have grouped these features into four cataegories viz.\n",
    "\n",
    "1. <b>Age & Gender</b> ('age','sex')\n",
    "<br>\n",
    "<br>\n",
    "2. <b>Family</b> ('famsize','Pstatus','Medu','Fedu','Mjob','Fjob','famsup','famrel','address')\n",
    "<br>\n",
    "<br>\n",
    "3. <b>Personal</b> ('traveltime','studytime','failures','paid','activities','nursery','higher','internet','romantic','freetime','health','absences','goout','Dalc','Walc')\n",
    "<br>\n",
    "<br>\n",
    "4. <b>School</b> ('school, schoolsup')\n",
    "\n",
    "\n",
    "***If you want you can skip all the reasoning part and simply go through the conclusions, search for 'Group n: Conclusions' (where n is the group number viz 1,2,3 and 4). Also for a list of all the conclusions drawn in this section search for Section 1: Conclusions***\n"
   ]
  },
  {
   "cell_type": "markdown",
   "metadata": {},
   "source": [
    "### <u>Group 1: Age & Gender</u>"
   ]
  },
  {
   "cell_type": "code",
   "execution_count": 74,
   "metadata": {},
   "outputs": [
    {
     "data": {
      "text/plain": [
       "count     1044\n",
       "unique       4\n",
       "top          F\n",
       "freq       383\n",
       "Name: sex, dtype: object"
      ]
     },
     "execution_count": 74,
     "metadata": {},
     "output_type": "execute_result"
    }
   ],
   "source": [
    "# First let's extract the columns of interest into a seperate dataframe\n",
    "\n",
    "data_agend = data.ix[:,['age','sex','G3']]\n",
    "\n",
    "#Then let's observe the gender column\n",
    "data_agend['sex'].describe()"
   ]
  },
  {
   "cell_type": "markdown",
   "metadata": {},
   "source": [
    "Hold on. We seem to have unearthed something funny about our dataset. We see <i>4</i> unique values for gender, which obviously is not possible (This assertion can be confirmed by referring to Student.txt and seeing what's the data allowed in the column). This is interesting and needs to be explored further"
   ]
  },
  {
   "cell_type": "code",
   "execution_count": 75,
   "metadata": {},
   "outputs": [
    {
     "data": {
      "text/plain": [
       "array(['F', 'M', '  F  ', '  M  '], dtype=object)"
      ]
     },
     "execution_count": 75,
     "metadata": {},
     "output_type": "execute_result"
    }
   ],
   "source": [
    "data_agend['sex'].unique() #Print all the unique values for sex"
   ]
  },
  {
   "cell_type": "markdown",
   "metadata": {},
   "source": [
    "And there you have it. It seems that there is some corruption in our data. We've got some whitespace padding around the actual value in some rows, which is getting incorrectly represented as a different unique value. Let's fix this and then move on (Spoiler: this seems to be a recurrent issue with this data set and needs to be done for many colums)"
   ]
  },
  {
   "cell_type": "code",
   "execution_count": 76,
   "metadata": {},
   "outputs": [
    {
     "data": {
      "text/plain": [
       "count     1044\n",
       "unique       2\n",
       "top          F\n",
       "freq       591\n",
       "Name: sex, dtype: object"
      ]
     },
     "execution_count": 76,
     "metadata": {},
     "output_type": "execute_result"
    }
   ],
   "source": [
    "data_agend['sex'] = data_agend['sex'].str.strip() #Strip the whitespaces\n",
    "data_agend['sex'].describe() #Verify"
   ]
  },
  {
   "cell_type": "markdown",
   "metadata": {},
   "source": [
    "Things seem to be fine now. \n",
    "\n",
    "Now the columns we've got here are age and gender. So the first question that pops up in my head, is that, <b>Does gender have any significance on the performance of the student?</b> \n",
    "\n",
    "Let's figure this out.  "
   ]
  },
  {
   "cell_type": "code",
   "execution_count": 77,
   "metadata": {},
   "outputs": [
    {
     "data": {
      "text/plain": [
       "sex       \n",
       "F    count    591.000000\n",
       "     mean      11.448393\n",
       "     std        3.874334\n",
       "     min        0.000000\n",
       "     25%       10.000000\n",
       "     50%       12.000000\n",
       "     75%       14.000000\n",
       "     max       19.000000\n",
       "M    count    453.000000\n",
       "     mean      11.203091\n",
       "     std        3.852167\n",
       "     min        0.000000\n",
       "     25%       10.000000\n",
       "     50%       11.000000\n",
       "     75%       14.000000\n",
       "     max       20.000000\n",
       "Name: G3, dtype: float64"
      ]
     },
     "execution_count": 77,
     "metadata": {},
     "output_type": "execute_result"
    }
   ],
   "source": [
    "data_agend.groupby('sex').describe()['G3'] "
   ]
  },
  {
   "cell_type": "code",
   "execution_count": 78,
   "metadata": {},
   "outputs": [
    {
     "data": {
      "image/png": "[encoded data removed]",
      "text/plain": [
       "<matplotlib.figure.Figure at 0x206ed399780>"
      ]
     },
     "metadata": {},
     "output_type": "display_data"
    }
   ],
   "source": [
    "#Plotting the mean values\n",
    "\n",
    "data_agend.groupby('sex').describe()['G3'][[('F','mean'),('M','mean')]].unstack().plot(kind='bar', use_index='False', legend = 'False')\n",
    "plt.show()"
   ]
  },
  {
   "cell_type": "markdown",
   "metadata": {},
   "source": [
    "Going by the above summary statistics, the first thing we notice is that the there are more female  students. So these figures might be slightly skewed towards the female population. But even taking that into consideration, we see that the mean score for girls and boys are almost the same, around 11. Another thing we note is that since the median ~ mode, the data is more or less normally distributed.\n",
    "\n",
    "So from these observations we can conclude that <b> Gender has no significance on student performance </b>"
   ]
  },
  {
   "cell_type": "markdown",
   "metadata": {},
   "source": [
    "The next question we could ask is that, <b> Does age play a factor in student performance </b>. Let's pull up some information from the dataset to investigate this "
   ]
  },
  {
   "cell_type": "code",
   "execution_count": 79,
   "metadata": {},
   "outputs": [
    {
     "data": {
      "text/html": [
       "<div>\n",
       "<table border=\"1\" class=\"dataframe\">\n",
       "  <thead>\n",
       "    <tr style=\"text-align: right;\">\n",
       "      <th></th>\n",
       "      <th></th>\n",
       "      <th>G3</th>\n",
       "    </tr>\n",
       "    <tr>\n",
       "      <th>age</th>\n",
       "      <th></th>\n",
       "      <th></th>\n",
       "    </tr>\n",
       "  </thead>\n",
       "  <tbody>\n",
       "    <tr>\n",
       "      <th rowspan=\"8\" valign=\"top\">15</th>\n",
       "      <th>count</th>\n",
       "      <td>194.000000</td>\n",
       "    </tr>\n",
       "    <tr>\n",
       "      <th>mean</th>\n",
       "      <td>11.747423</td>\n",
       "    </tr>\n",
       "    <tr>\n",
       "      <th>std</th>\n",
       "      <td>3.398128</td>\n",
       "    </tr>\n",
       "    <tr>\n",
       "      <th>min</th>\n",
       "      <td>0.000000</td>\n",
       "    </tr>\n",
       "    <tr>\n",
       "      <th>25%</th>\n",
       "      <td>10.000000</td>\n",
       "    </tr>\n",
       "    <tr>\n",
       "      <th>50%</th>\n",
       "      <td>12.000000</td>\n",
       "    </tr>\n",
       "    <tr>\n",
       "      <th>75%</th>\n",
       "      <td>14.000000</td>\n",
       "    </tr>\n",
       "    <tr>\n",
       "      <th>max</th>\n",
       "      <td>19.000000</td>\n",
       "    </tr>\n",
       "    <tr>\n",
       "      <th rowspan=\"8\" valign=\"top\">16</th>\n",
       "      <th>count</th>\n",
       "      <td>281.000000</td>\n",
       "    </tr>\n",
       "    <tr>\n",
       "      <th>mean</th>\n",
       "      <td>11.637011</td>\n",
       "    </tr>\n",
       "    <tr>\n",
       "      <th>std</th>\n",
       "      <td>3.491303</td>\n",
       "    </tr>\n",
       "    <tr>\n",
       "      <th>min</th>\n",
       "      <td>0.000000</td>\n",
       "    </tr>\n",
       "    <tr>\n",
       "      <th>25%</th>\n",
       "      <td>10.000000</td>\n",
       "    </tr>\n",
       "    <tr>\n",
       "      <th>50%</th>\n",
       "      <td>12.000000</td>\n",
       "    </tr>\n",
       "    <tr>\n",
       "      <th>75%</th>\n",
       "      <td>14.000000</td>\n",
       "    </tr>\n",
       "    <tr>\n",
       "      <th>max</th>\n",
       "      <td>20.000000</td>\n",
       "    </tr>\n",
       "    <tr>\n",
       "      <th rowspan=\"8\" valign=\"top\">17</th>\n",
       "      <th>count</th>\n",
       "      <td>277.000000</td>\n",
       "    </tr>\n",
       "    <tr>\n",
       "      <th>mean</th>\n",
       "      <td>11.563177</td>\n",
       "    </tr>\n",
       "    <tr>\n",
       "      <th>std</th>\n",
       "      <td>3.711588</td>\n",
       "    </tr>\n",
       "    <tr>\n",
       "      <th>min</th>\n",
       "      <td>0.000000</td>\n",
       "    </tr>\n",
       "    <tr>\n",
       "      <th>25%</th>\n",
       "      <td>10.000000</td>\n",
       "    </tr>\n",
       "    <tr>\n",
       "      <th>50%</th>\n",
       "      <td>12.000000</td>\n",
       "    </tr>\n",
       "    <tr>\n",
       "      <th>75%</th>\n",
       "      <td>14.000000</td>\n",
       "    </tr>\n",
       "    <tr>\n",
       "      <th>max</th>\n",
       "      <td>19.000000</td>\n",
       "    </tr>\n",
       "    <tr>\n",
       "      <th rowspan=\"6\" valign=\"top\">18</th>\n",
       "      <th>count</th>\n",
       "      <td>222.000000</td>\n",
       "    </tr>\n",
       "    <tr>\n",
       "      <th>mean</th>\n",
       "      <td>10.950450</td>\n",
       "    </tr>\n",
       "    <tr>\n",
       "      <th>std</th>\n",
       "      <td>4.599063</td>\n",
       "    </tr>\n",
       "    <tr>\n",
       "      <th>min</th>\n",
       "      <td>0.000000</td>\n",
       "    </tr>\n",
       "    <tr>\n",
       "      <th>25%</th>\n",
       "      <td>9.000000</td>\n",
       "    </tr>\n",
       "    <tr>\n",
       "      <th>50%</th>\n",
       "      <td>11.000000</td>\n",
       "    </tr>\n",
       "    <tr>\n",
       "      <th>...</th>\n",
       "      <th>...</th>\n",
       "      <td>...</td>\n",
       "    </tr>\n",
       "    <tr>\n",
       "      <th rowspan=\"6\" valign=\"top\">19</th>\n",
       "      <th>std</th>\n",
       "      <td>3.981614</td>\n",
       "    </tr>\n",
       "    <tr>\n",
       "      <th>min</th>\n",
       "      <td>0.000000</td>\n",
       "    </tr>\n",
       "    <tr>\n",
       "      <th>25%</th>\n",
       "      <td>9.000000</td>\n",
       "    </tr>\n",
       "    <tr>\n",
       "      <th>50%</th>\n",
       "      <td>10.000000</td>\n",
       "    </tr>\n",
       "    <tr>\n",
       "      <th>75%</th>\n",
       "      <td>11.000000</td>\n",
       "    </tr>\n",
       "    <tr>\n",
       "      <th>max</th>\n",
       "      <td>14.000000</td>\n",
       "    </tr>\n",
       "    <tr>\n",
       "      <th rowspan=\"8\" valign=\"top\">20</th>\n",
       "      <th>count</th>\n",
       "      <td>9.000000</td>\n",
       "    </tr>\n",
       "    <tr>\n",
       "      <th>mean</th>\n",
       "      <td>12.666667</td>\n",
       "    </tr>\n",
       "    <tr>\n",
       "      <th>std</th>\n",
       "      <td>3.162278</td>\n",
       "    </tr>\n",
       "    <tr>\n",
       "      <th>min</th>\n",
       "      <td>9.000000</td>\n",
       "    </tr>\n",
       "    <tr>\n",
       "      <th>25%</th>\n",
       "      <td>10.000000</td>\n",
       "    </tr>\n",
       "    <tr>\n",
       "      <th>50%</th>\n",
       "      <td>12.000000</td>\n",
       "    </tr>\n",
       "    <tr>\n",
       "      <th>75%</th>\n",
       "      <td>15.000000</td>\n",
       "    </tr>\n",
       "    <tr>\n",
       "      <th>max</th>\n",
       "      <td>18.000000</td>\n",
       "    </tr>\n",
       "    <tr>\n",
       "      <th rowspan=\"8\" valign=\"top\">21</th>\n",
       "      <th>count</th>\n",
       "      <td>3.000000</td>\n",
       "    </tr>\n",
       "    <tr>\n",
       "      <th>mean</th>\n",
       "      <td>9.666667</td>\n",
       "    </tr>\n",
       "    <tr>\n",
       "      <th>std</th>\n",
       "      <td>2.516611</td>\n",
       "    </tr>\n",
       "    <tr>\n",
       "      <th>min</th>\n",
       "      <td>7.000000</td>\n",
       "    </tr>\n",
       "    <tr>\n",
       "      <th>25%</th>\n",
       "      <td>8.500000</td>\n",
       "    </tr>\n",
       "    <tr>\n",
       "      <th>50%</th>\n",
       "      <td>10.000000</td>\n",
       "    </tr>\n",
       "    <tr>\n",
       "      <th>75%</th>\n",
       "      <td>11.000000</td>\n",
       "    </tr>\n",
       "    <tr>\n",
       "      <th>max</th>\n",
       "      <td>12.000000</td>\n",
       "    </tr>\n",
       "    <tr>\n",
       "      <th rowspan=\"8\" valign=\"top\">22</th>\n",
       "      <th>count</th>\n",
       "      <td>2.000000</td>\n",
       "    </tr>\n",
       "    <tr>\n",
       "      <th>mean</th>\n",
       "      <td>6.500000</td>\n",
       "    </tr>\n",
       "    <tr>\n",
       "      <th>std</th>\n",
       "      <td>2.121320</td>\n",
       "    </tr>\n",
       "    <tr>\n",
       "      <th>min</th>\n",
       "      <td>5.000000</td>\n",
       "    </tr>\n",
       "    <tr>\n",
       "      <th>25%</th>\n",
       "      <td>5.750000</td>\n",
       "    </tr>\n",
       "    <tr>\n",
       "      <th>50%</th>\n",
       "      <td>6.500000</td>\n",
       "    </tr>\n",
       "    <tr>\n",
       "      <th>75%</th>\n",
       "      <td>7.250000</td>\n",
       "    </tr>\n",
       "    <tr>\n",
       "      <th>max</th>\n",
       "      <td>8.000000</td>\n",
       "    </tr>\n",
       "  </tbody>\n",
       "</table>\n",
       "<p>64 rows × 1 columns</p>\n",
       "</div>"
      ],
      "text/plain": [
       "                   G3\n",
       "age                  \n",
       "15  count  194.000000\n",
       "    mean    11.747423\n",
       "    std      3.398128\n",
       "    min      0.000000\n",
       "    25%     10.000000\n",
       "    50%     12.000000\n",
       "    75%     14.000000\n",
       "    max     19.000000\n",
       "16  count  281.000000\n",
       "    mean    11.637011\n",
       "    std      3.491303\n",
       "    min      0.000000\n",
       "    25%     10.000000\n",
       "    50%     12.000000\n",
       "    75%     14.000000\n",
       "    max     20.000000\n",
       "17  count  277.000000\n",
       "    mean    11.563177\n",
       "    std      3.711588\n",
       "    min      0.000000\n",
       "    25%     10.000000\n",
       "    50%     12.000000\n",
       "    75%     14.000000\n",
       "    max     19.000000\n",
       "18  count  222.000000\n",
       "    mean    10.950450\n",
       "    std      4.599063\n",
       "    min      0.000000\n",
       "    25%      9.000000\n",
       "    50%     11.000000\n",
       "...               ...\n",
       "19  std      3.981614\n",
       "    min      0.000000\n",
       "    25%      9.000000\n",
       "    50%     10.000000\n",
       "    75%     11.000000\n",
       "    max     14.000000\n",
       "20  count    9.000000\n",
       "    mean    12.666667\n",
       "    std      3.162278\n",
       "    min      9.000000\n",
       "    25%     10.000000\n",
       "    50%     12.000000\n",
       "    75%     15.000000\n",
       "    max     18.000000\n",
       "21  count    3.000000\n",
       "    mean     9.666667\n",
       "    std      2.516611\n",
       "    min      7.000000\n",
       "    25%      8.500000\n",
       "    50%     10.000000\n",
       "    75%     11.000000\n",
       "    max     12.000000\n",
       "22  count    2.000000\n",
       "    mean     6.500000\n",
       "    std      2.121320\n",
       "    min      5.000000\n",
       "    25%      5.750000\n",
       "    50%      6.500000\n",
       "    75%      7.250000\n",
       "    max      8.000000\n",
       "\n",
       "[64 rows x 1 columns]"
      ]
     },
     "execution_count": 79,
     "metadata": {},
     "output_type": "execute_result"
    }
   ],
   "source": [
    "data_agend.groupby('age').describe() "
   ]
  },
  {
   "cell_type": "markdown",
   "metadata": {},
   "source": [
    "One thing that we notice is that the count of students in each age group(15-22) is different, let's see this visually"
   ]
  },
  {
   "cell_type": "code",
   "execution_count": 80,
   "metadata": {},
   "outputs": [
    {
     "data": {
      "image/png": "[encoded data removed]",
      "text/plain": [
       "<matplotlib.figure.Figure at 0x206f0374da0>"
      ]
     },
     "metadata": {},
     "output_type": "display_data"
    }
   ],
   "source": [
    "data_agend.groupby('age').describe()['G3'][[(15,'count'),(16,'count'),(17,'count'),(18,'count'),(19,'count'),(20,'count'),(21,'count'),(22,'count')]].unstack().plot(kind='bar', use_index='False', legend = 'False') \n",
    "plt.show()"
   ]
  },
  {
   "cell_type": "markdown",
   "metadata": {},
   "source": [
    "So as we can see <b>there is a significant difference in the amount of students in each age group</b>. Majority of the students are between 15 to 18. There are very few students who are older than 18. So for the time being let's exclude them from our consideration. Comparing the mean scores of students in the age group of 15 -18 we get  "
   ]
  },
  {
   "cell_type": "code",
   "execution_count": 81,
   "metadata": {},
   "outputs": [
    {
     "data": {
      "image/png": "[encoded data removed]",
      "text/plain": [
       "<matplotlib.figure.Figure at 0x206ef36fef0>"
      ]
     },
     "metadata": {},
     "output_type": "display_data"
    }
   ],
   "source": [
    "data_agend.groupby('age').describe()['G3'][[(15,'mean'),(16,'mean'),(17,'mean'),(18,'mean')]].unstack().plot(kind='bar', use_index='False', legend = 'False') \n",
    "plt.show()"
   ]
  },
  {
   "cell_type": "markdown",
   "metadata": {},
   "source": [
    "As we can see that there is no significant difference in the scores in each age group. Thus we can for now, conclude that <b> Age does not influence student performance </b>"
   ]
  },
  {
   "cell_type": "markdown",
   "metadata": {},
   "source": [
    "### <u>Group 1: Conclusions</u>\n",
    "\n",
    "From the above analysis, we can draw the following conclusions\n",
    "\n",
    "1. Gender has no influence on student performance\n",
    "<br><br>\n",
    "2. Age has no influence on student performance.\n",
    "<br><br>\n",
    "3. Very few enrollments by students older than 18 years.\n"
   ]
  },
  {
   "cell_type": "markdown",
   "metadata": {},
   "source": [
    "###  <u> Group 2: Family </u>"
   ]
  },
  {
   "cell_type": "code",
   "execution_count": 82,
   "metadata": {
    "collapsed": true
   },
   "outputs": [],
   "source": [
    "##Importing columns of interest and performing preprocessing explained in Group 1\n",
    "\n",
    "data_family = data.ix[:,['famsize','Pstatus','Medu','Fedu','Mjob','Fjob','famsup','famrel','address','G3']]\n",
    "\n",
    "data_family['famsize'] = data_family['famsize'].str.strip()\n",
    "data_family['Pstatus'] = data_family['Pstatus'].str.strip()\n",
    "data_family['Mjob'] = data_family['Mjob'].str.strip()\n",
    "data_family['Fjob'] = data_family['Fjob'].str.strip()\n",
    "data_family['famsup'] = data_family['famsup'].str.strip()\n",
    "data_family['address'] = data_family['address'].str.strip()\n",
    "\n"
   ]
  },
  {
   "cell_type": "code",
   "execution_count": 83,
   "metadata": {},
   "outputs": [
    {
     "name": "stdout",
     "output_type": "stream",
     "text": [
      "famsize       \n",
      "GT3      count    738.000000\n",
      "         mean      11.189702\n",
      "         std        3.998548\n",
      "         min        0.000000\n",
      "         25%       10.000000\n",
      "         50%       11.000000\n",
      "         75%       14.000000\n",
      "         max       20.000000\n",
      "LE3      count    306.000000\n",
      "         mean      11.709150\n",
      "         std        3.500405\n",
      "         min        0.000000\n",
      "         25%       10.000000\n",
      "         50%       12.000000\n",
      "         75%       14.000000\n",
      "         max       19.000000\n",
      "Name: G3, dtype: float64\n"
     ]
    },
    {
     "data": {
      "image/png": "[encoded data removed]",
      "text/plain": [
       "<matplotlib.figure.Figure at 0x206f04502b0>"
      ]
     },
     "metadata": {},
     "output_type": "display_data"
    }
   ],
   "source": [
    "#Analyzing Family size and Student Performance\n",
    "print(data_family[['famsize','G3']].groupby('famsize').describe()['G3'])\n",
    "\n",
    "data_family[['famsize','G3']].groupby('famsize').describe()['G3'][[('GT3','mean'),('LE3','mean'),('GT3','count'),('LE3','count')]].unstack().plot(kind='bar', use_index='False', )\n",
    "plt.show()"
   ]
  },
  {
   "cell_type": "markdown",
   "metadata": {},
   "source": [
    "One thing we notice is that <b>the number of families with less than or equal to three members is in the minority.</b> The presence of families with greater size than these are more than double. This is significant because, the difference in the mean of both the groups, is probably not indicative of anything because the data is so heavily skewed to one side. Therefore we can conclude that <b> Family size has no impact on student performance.</b>   "
   ]
  },
  {
   "cell_type": "code",
   "execution_count": 84,
   "metadata": {},
   "outputs": [
    {
     "name": "stdout",
     "output_type": "stream",
     "text": [
      "Pstatus       \n",
      "A        count    121.000000\n",
      "         mean      11.669421\n",
      "         std        3.617984\n",
      "         min        0.000000\n",
      "         25%       10.000000\n",
      "         50%       11.000000\n",
      "         75%       14.000000\n",
      "         max       19.000000\n",
      "T        count    923.000000\n",
      "         mean      11.299025\n",
      "         std        3.895805\n",
      "         min        0.000000\n",
      "         25%       10.000000\n",
      "         50%       11.000000\n",
      "         75%       14.000000\n",
      "         max       20.000000\n",
      "Name: G3, dtype: float64\n"
     ]
    },
    {
     "data": {
      "image/png": "[encoded data removed]",
      "text/plain": [
       "<matplotlib.figure.Figure at 0x206f042c630>"
      ]
     },
     "metadata": {},
     "output_type": "display_data"
    }
   ],
   "source": [
    "#Analyzing Parent's Cohabitation Status and Student Performance\n",
    "print(data_family[['Pstatus','G3']].groupby('Pstatus').describe()['G3'])\n",
    "\n",
    "data_family[['Pstatus','G3']].groupby('Pstatus').describe()['G3'][[('A','mean'),('T','mean'),('A','count'),('T','count')]].unstack().plot(kind='bar', use_index='False', )\n",
    "plt.show()"
   ]
  },
  {
   "cell_type": "markdown",
   "metadata": {},
   "source": [
    "Once again we see a huge skew in the data. Though this one is expected in a random sample of the population space. <b>Parents living apart from each other are almost 9 times lesser than those living together</b> So once again the difference in the means of these two groups can be overlooked. We conclude saying that <b> Parent's cohabitation status has no effect on student performance </b>  "
   ]
  },
  {
   "cell_type": "code",
   "execution_count": 85,
   "metadata": {},
   "outputs": [
    {
     "name": "stdout",
     "output_type": "stream",
     "text": [
      "Medu       \n",
      "0     count      9.000000\n",
      "      mean      12.111111\n",
      "      std        2.315407\n",
      "      min        9.000000\n",
      "      25%       11.000000\n",
      "      50%       11.000000\n",
      "      75%       15.000000\n",
      "      max       15.000000\n",
      "1     count    202.000000\n",
      "      mean      10.178218\n",
      "      std        3.674292\n",
      "      min        0.000000\n",
      "      25%        9.000000\n",
      "      50%       10.000000\n",
      "      75%       12.000000\n",
      "      max       18.000000\n",
      "2     count    289.000000\n",
      "      mean      10.972318\n",
      "      std        3.806874\n",
      "      min        0.000000\n",
      "      25%       10.000000\n",
      "      50%       11.000000\n",
      "      75%       13.000000\n",
      "      max       19.000000\n",
      "3     count    238.000000\n",
      "      mean      11.247899\n",
      "      std        3.893289\n",
      "      min        0.000000\n",
      "      25%       10.000000\n",
      "      50%       11.000000\n",
      "      75%       14.000000\n",
      "      max       19.000000\n",
      "4     count    306.000000\n",
      "      mean      12.509804\n",
      "      std        3.762834\n",
      "      min        0.000000\n",
      "      25%       11.000000\n",
      "      50%       13.000000\n",
      "      75%       15.000000\n",
      "      max       20.000000\n",
      "Name: G3, dtype: float64\n"
     ]
    },
    {
     "data": {
      "image/png": "[encoded data removed]",
      "text/plain": [
       "<matplotlib.figure.Figure at 0x206eb02c780>"
      ]
     },
     "metadata": {},
     "output_type": "display_data"
    }
   ],
   "source": [
    "#Analysing Mother's Education and Job with Student Performance\n",
    "\n",
    "print(data_family[['Medu','G3']].groupby('Medu').describe()['G3'])\n",
    "\n",
    "data_family[['Medu','G3']].groupby('Medu').describe()['G3'][[(0,'mean'),(1,'mean'),(2,'mean'),(3,'mean'),(4,'mean'),(0,'count'),(1,'count'),(2,'count'),(3,'count'),(4,'count')]].unstack().plot(kind='bar', use_index='False', )\n",
    "plt.show()\n",
    "\n",
    "\n"
   ]
  },
  {
   "cell_type": "markdown",
   "metadata": {},
   "source": [
    "From Students.txt, we interpret the job codes as following\n",
    "\n",
    "0 - none,  1 - primary education (4th grade), 2 – 5th to 9th grade, 3 – secondary education or 4 – higher education\n",
    "\n",
    "First thing I note is that only 9 mother's have had no education. That would indcate that <b>99.2 % mothers of the sample population have had some form of education.</b> This is highly encouraging, though this must also be taken with a grain of salt because\n",
    "\n",
    "1. Participants might lie about certain parameters so as to appear socially adequate. One's parent's education might be such an example\n",
    "<br> <br>\n",
    "2. This data is sampled from a population that goes to school. Parents in such a population are probably more likely to have an education than parents from a more genralized sample space. \n",
    "\n",
    "\n",
    "Keeping aside the no education category, we notice that the counts for the rest fall within the 200-300 window. Since these are in a comparable window let's see what the mean scores indicate. \n"
   ]
  },
  {
   "cell_type": "code",
   "execution_count": 86,
   "metadata": {},
   "outputs": [
    {
     "data": {
      "image/png": "[encoded data removed]",
      "text/plain": [
       "<matplotlib.figure.Figure at 0x206f04a2710>"
      ]
     },
     "metadata": {},
     "output_type": "display_data"
    }
   ],
   "source": [
    "data_family[['Medu','G3']].groupby('Medu').describe()['G3'][[(1,'mean'),(2,'mean'),(3,'mean'),(4,'mean')]].unstack().plot(kind='bar', use_index='False', )\n",
    "plt.show()\n"
   ]
  },
  {
   "cell_type": "markdown",
   "metadata": {},
   "source": [
    "We see that as the level of education of the mother increases, the mean score of the student does too. There is almost a 2 point increase in a student's performance between a primary educated mother(1) and a higly educated one(4). One must keep in mind that there are 100 odd extra observations in cataegory 4, but the two point increase is significant enough to conclude that <b> The higher the mother's education, the better the student's performance </b>. Though by what fraction does this actually influence the performance is yet to be seen.   "
   ]
  },
  {
   "cell_type": "code",
   "execution_count": 87,
   "metadata": {},
   "outputs": [
    {
     "name": "stdout",
     "output_type": "stream",
     "text": [
      "Mjob           \n",
      "at_home   count    194.000000\n",
      "          mean      10.469072\n",
      "          std        3.785926\n",
      "          min        0.000000\n",
      "          25%        9.000000\n",
      "          50%       11.000000\n",
      "          75%       13.000000\n",
      "          max       19.000000\n",
      "health    count     82.000000\n",
      "          mean      12.682927\n",
      "          std        3.544699\n",
      "          min        0.000000\n",
      "          25%       10.000000\n",
      "          50%       13.000000\n",
      "          75%       15.000000\n",
      "          max       20.000000\n",
      "other     count    399.000000\n",
      "          mean      11.017544\n",
      "          std        3.811803\n",
      "          min        0.000000\n",
      "          25%       10.000000\n",
      "          50%       11.000000\n",
      "          75%       13.000000\n",
      "          max       19.000000\n",
      "services  count    239.000000\n",
      "          mean      11.661088\n",
      "          std        3.853160\n",
      "          min        0.000000\n",
      "          25%       10.000000\n",
      "          50%       12.000000\n",
      "          75%       14.000000\n",
      "          max       19.000000\n",
      "teacher   count    130.000000\n",
      "          mean      12.207692\n",
      "          std        3.956539\n",
      "          min        0.000000\n",
      "          25%       10.000000\n",
      "          50%       12.500000\n",
      "          75%       15.000000\n",
      "          max       19.000000\n",
      "Name: G3, dtype: float64\n"
     ]
    },
    {
     "data": {
      "image/png": "[encoded data removed]",
      "text/plain": [
       "<matplotlib.figure.Figure at 0x206ed1869e8>"
      ]
     },
     "metadata": {},
     "output_type": "display_data"
    }
   ],
   "source": [
    "print(data_family[['Mjob','G3']].groupby('Mjob').describe()['G3'])\n",
    "\n",
    "\n",
    "data_family[['Mjob','G3']].groupby('Mjob').describe()['G3'][[('at_home','mean'),('health','mean'),('other','mean'),('services','mean'),('teacher','mean'),('at_home','count'),('health','count'),('other','count'),('services','count'),('teacher','count')]].unstack().plot(kind='bar', use_index='False', )\n",
    "plt.show()"
   ]
  },
  {
   "cell_type": "markdown",
   "metadata": {},
   "source": [
    "Here we see that the 'Other' cataegory of job has a lot of data. This could indicate two things. One that the survey choices to the question were not designed according to the target population. Or that researchers were interested in the specific job types only. It is more productive to assume the latter and carry on. Thus for this segment we simply ignore the data points with the other label. \n",
    "\n",
    "The first theing we notice in this distribution is that the population of stay at home moms is quite significant. But the mean score for that category is the lowest. <b>Surprisingly the notion that student's perform better with stay at home moms seems to be debunked here.</b> We also see that <b>Students whose Mothers have highly specialized jobs like teaching or being in the health sector tend to perform better</b> We also see that Students with Mothers in the services section perform slightly better on the whole. Since all the three jobs, require a certain level of education, this ties in with our previous assumption also viz. Students with will educated mothers perform better\n"
   ]
  },
  {
   "cell_type": "code",
   "execution_count": 88,
   "metadata": {},
   "outputs": [
    {
     "name": "stdout",
     "output_type": "stream",
     "text": [
      "Fedu       \n",
      "0     count      9.000000\n",
      "      mean      12.333333\n",
      "      std        2.872281\n",
      "      min       10.000000\n",
      "      25%       10.000000\n",
      "      50%       11.000000\n",
      "      75%       13.000000\n",
      "      max       18.000000\n",
      "1     count    256.000000\n",
      "      mean      10.367188\n",
      "      std        3.906498\n",
      "      min        0.000000\n",
      "      25%        9.000000\n",
      "      50%       10.000000\n",
      "      75%       13.000000\n",
      "      max       19.000000\n",
      "2     count    324.000000\n",
      "      mean      11.243827\n",
      "      std        4.012264\n",
      "      min        0.000000\n",
      "      25%       10.000000\n",
      "      50%       11.000000\n",
      "      75%       14.000000\n",
      "      max       19.000000\n",
      "3     count    231.000000\n",
      "      mean      11.636364\n",
      "      std        3.413181\n",
      "      min        0.000000\n",
      "      25%       10.000000\n",
      "      50%       12.000000\n",
      "      75%       14.000000\n",
      "      max       20.000000\n",
      "4     count    224.000000\n",
      "      mean      12.254464\n",
      "      std        3.835459\n",
      "      min        0.000000\n",
      "      25%       11.000000\n",
      "      50%       13.000000\n",
      "      75%       15.000000\n",
      "      max       19.000000\n",
      "Name: G3, dtype: float64\n"
     ]
    },
    {
     "data": {
      "image/png": "[encoded data removed]",
      "text/plain": [
       "<matplotlib.figure.Figure at 0x206eaff1908>"
      ]
     },
     "metadata": {},
     "output_type": "display_data"
    }
   ],
   "source": [
    "#Repeating the above exercise for Father's education and job\n",
    "\n",
    "print(data_family[['Fedu','G3']].groupby('Fedu').describe()['G3'])\n",
    "\n",
    "data_family[['Fedu','G3']].groupby('Fedu').describe()['G3'][[(0,'mean'),(1,'mean'),(2,'mean'),(3,'mean'),(4,'mean'),(0,'count'),(1,'count'),(2,'count'),(3,'count'),(4,'count')]].unstack().plot(kind='bar', use_index='False', )\n",
    "plt.show()\n"
   ]
  },
  {
   "cell_type": "markdown",
   "metadata": {},
   "source": [
    "Here we see a somewhat similar distribution like the one we saw for mothers. But there are some interesting subtelties. Ignoring the no education ones while comparing the men and women's education figures we can conclude that <b>It is more likely that women will pursue secondary and higher education than men </b> This is derived from the fact that the <b> 52% of women have chosen to pursue secondary or higher education compared to 43% of the men </b>\n",
    "\n",
    "As for the impact on student performance, it pretty much follows the same trend as the mothers. Thus we can conclude that <b>The higher the father's education, the better the student's performance</b> "
   ]
  },
  {
   "cell_type": "code",
   "execution_count": 89,
   "metadata": {},
   "outputs": [
    {
     "name": "stdout",
     "output_type": "stream",
     "text": [
      "Fjob           \n",
      "at_home   count     62.000000\n",
      "          mean      11.016129\n",
      "          std        4.010200\n",
      "          min        0.000000\n",
      "          25%       10.000000\n",
      "          50%       11.000000\n",
      "          75%       14.000000\n",
      "          max       19.000000\n",
      "health    count     41.000000\n",
      "          mean      12.146341\n",
      "          std        3.174594\n",
      "          min        6.000000\n",
      "          25%       10.000000\n",
      "          50%       12.000000\n",
      "          75%       14.000000\n",
      "          max       18.000000\n",
      "other     count    584.000000\n",
      "          mean      11.260274\n",
      "          std        3.761418\n",
      "          min        0.000000\n",
      "          25%       10.000000\n",
      "          50%       11.000000\n",
      "          75%       14.000000\n",
      "          max       19.000000\n",
      "services  count    292.000000\n",
      "          mean      11.123288\n",
      "          std        3.912954\n",
      "          min        0.000000\n",
      "          25%        9.750000\n",
      "          50%       11.000000\n",
      "          75%       14.000000\n",
      "          max       20.000000\n",
      "teacher   count     65.000000\n",
      "          mean      12.861538\n",
      "          std        4.489143\n",
      "          min        0.000000\n",
      "          25%       11.000000\n",
      "          50%       14.000000\n",
      "          75%       16.000000\n",
      "          max       19.000000\n",
      "Name: G3, dtype: float64\n"
     ]
    },
    {
     "data": {
      "image/png": "[encoded data removed]",
      "text/plain": [
       "<matplotlib.figure.Figure at 0x206eb1ceb00>"
      ]
     },
     "metadata": {},
     "output_type": "display_data"
    }
   ],
   "source": [
    "print(data_family[['Fjob','G3']].groupby('Fjob').describe()['G3'])\n",
    "\n",
    "\n",
    "data_family[['Fjob','G3']].groupby('Fjob').describe()['G3'][[('at_home','mean'),('health','mean'),('other','mean'),('services','mean'),('teacher','mean'),('at_home','count'),('health','count'),('other','count'),('services','count'),('teacher','count')]].unstack().plot(kind='bar', use_index='False', )\n",
    "plt.show()"
   ]
  },
  {
   "cell_type": "markdown",
   "metadata": {},
   "source": [
    "Once again we see that students with stay at home dads have the least performance amongst the groups. We also see that as was in the case of the mothers, <b>Jobs in health sector and education sector correlate to a better student performance</b>. Another thing which we note is that <b> Only 10% of the male populations are into these specialized sectors, compared to 20% of the female population. This also confirms the fact that women tend to be better educated than men, since a higher education is a prerequisite for entry in such sectors </b>   "
   ]
  },
  {
   "cell_type": "markdown",
   "metadata": {},
   "source": [
    "Now let's move on to factors like family relations and family support"
   ]
  },
  {
   "cell_type": "code",
   "execution_count": 90,
   "metadata": {},
   "outputs": [
    {
     "name": "stdout",
     "output_type": "stream",
     "text": [
      "famrel       \n",
      "1       count     30.000000\n",
      "        mean      10.633333\n",
      "        std        3.908288\n",
      "        min        0.000000\n",
      "        25%        9.000000\n",
      "        50%       11.000000\n",
      "        75%       12.750000\n",
      "        max       17.000000\n",
      "2       count     47.000000\n",
      "        mean      10.489362\n",
      "        std        4.471515\n",
      "        min        0.000000\n",
      "        25%        9.500000\n",
      "        50%       11.000000\n",
      "        75%       13.000000\n",
      "        max       17.000000\n",
      "3       count    169.000000\n",
      "        mean      10.970414\n",
      "        std        3.830371\n",
      "        min        0.000000\n",
      "        25%       10.000000\n",
      "        50%       11.000000\n",
      "        75%       13.000000\n",
      "        max       19.000000\n",
      "4       count    512.000000\n",
      "        mean      11.587891\n",
      "        std        3.688466\n",
      "        min        0.000000\n",
      "        25%       10.000000\n",
      "        50%       11.500000\n",
      "        75%       14.000000\n",
      "        max       20.000000\n",
      "5       count    286.000000\n",
      "        mean      11.335664\n",
      "        std        4.059114\n",
      "        min        0.000000\n",
      "        25%       10.000000\n",
      "        50%       12.000000\n",
      "        75%       14.000000\n",
      "        max       19.000000\n",
      "Name: G3, dtype: float64\n"
     ]
    },
    {
     "data": {
      "image/png": "[encoded data removed]",
      "text/plain": [
       "<matplotlib.figure.Figure at 0x206f0400978>"
      ]
     },
     "metadata": {},
     "output_type": "display_data"
    }
   ],
   "source": [
    "print(data_family[['famrel','G3']].groupby('famrel').describe()['G3'])\n",
    "\n",
    "\n",
    "data_family[['famrel','G3']].groupby('famrel').describe()['G3'][[(1,'mean'),(2,'mean'),(3,'mean'),(4,'mean'),(5,'mean'),(1,'count'),(2,'count'),(3,'count'),(4,'count'),(5,'count')]].unstack().plot(kind='bar', use_index='False', )\n",
    "plt.show()"
   ]
  },
  {
   "cell_type": "markdown",
   "metadata": {},
   "source": [
    "As we can see the counts are heavily skewed in the favor of the 4th rating (ratings are in order of increasing satisfaction). Almost 50% of the sample population has opted that. We do see a trend where a low family relation rating implies a low student performance but because of the way the data is distributed, this claim can't be substantiated.  Also the variance of the mean score amongst all the groups is less than a point. So given the low variance of the score amongst different categories and the skew in the data, <b> We can't assume any correlation exists between family relations and student performance </b>"
   ]
  },
  {
   "cell_type": "code",
   "execution_count": 91,
   "metadata": {},
   "outputs": [
    {
     "name": "stdout",
     "output_type": "stream",
     "text": [
      "famsup       \n",
      "no      count    404.000000\n",
      "        mean      11.277228\n",
      "        std        4.050228\n",
      "        min        0.000000\n",
      "        25%       10.000000\n",
      "        50%       11.000000\n",
      "        75%       14.000000\n",
      "        max       20.000000\n",
      "yes     count    640.000000\n",
      "        mean      11.382812\n",
      "        std        3.745673\n",
      "        min        0.000000\n",
      "        25%       10.000000\n",
      "        50%       11.000000\n",
      "        75%       14.000000\n",
      "        max       19.000000\n",
      "Name: G3, dtype: float64\n"
     ]
    },
    {
     "data": {
      "image/png": "[encoded data removed]",
      "text/plain": [
       "<matplotlib.figure.Figure at 0x206f050e2e8>"
      ]
     },
     "metadata": {},
     "output_type": "display_data"
    }
   ],
   "source": [
    "print(data_family[['famsup','G3']].groupby('famsup').describe()['G3'])\n",
    "\n",
    "data_family[['famsup','G3']].groupby('famsup').describe()['G3'][[('no','mean'),('yes','mean'),('no','count'),('yes','count')]].unstack().plot(kind='bar', use_index='False', )\n",
    "plt.show()"
   ]
  },
  {
   "cell_type": "markdown",
   "metadata": {},
   "source": [
    "As is evident <b> The presence of absence of Family support has no influence on Student performance </b> "
   ]
  },
  {
   "cell_type": "markdown",
   "metadata": {},
   "source": [
    "### <u> Group 2: Conclusions </u>\n",
    "\n",
    "1. The presence of absence of Family support has no influence on Student performance\n",
    "<br>\n",
    "<br>\n",
    "2. We can't assume any correlation exists between family relations and student performance\n",
    "<br>\n",
    "<br>\n",
    "3. Jobs in health sector and education sector correlate to a better student performance.\n",
    "<br>\n",
    "<br>\n",
    "4. The higher the parent's education, the better the student's performance\n",
    "<br>\n",
    "<br>\n",
    "5. It is more likely that women will pursue secondary and higher education than men. 52% of women have chosen to pursue secondary or higher education compared to 43% of the men\n",
    "<br>\n",
    "<br>\n",
    "6.  Only 10% of the male populations are into these specialized sectors(health and education), compared to 20% of the female population. This also confirms the fact that women tend to be better educated than men, since a higher education is a prerequisite for entry in such sectors\n",
    "<br>\n",
    "<br>\n",
    "7. Parent's cohabitation status has no effect on student performance\n",
    "<br>\n",
    "<br>\n",
    "8. Family size has no impact on student performance.\n"
   ]
  },
  {
   "cell_type": "markdown",
   "metadata": {},
   "source": [
    "### <u> Group 3: Personal </u>"
   ]
  },
  {
   "cell_type": "code",
   "execution_count": 92,
   "metadata": {
    "collapsed": true
   },
   "outputs": [],
   "source": [
    "#Importing and preprocessing\n",
    "\n",
    "data_personal = data.ix[:,['traveltime','studytime','failures','paid','activities','nursery','higher','internet','romantic','freetime','health','absences','goout','Dalc','Walc','G3']]\n",
    "\n",
    "\n",
    "data_personal['paid'] = data_personal['paid'].str.strip()\n",
    "data_personal['activities'] = data_personal['activities'].str.strip()\n",
    "data_personal['nursery'] = data_personal['nursery'].str.strip()\n",
    "data_personal['higher'] = data_personal['higher'].str.strip()\n",
    "data_personal['internet'] = data_personal['internet'].str.strip()\n",
    "data_personal['romantic'] = data_personal['romantic'].str.strip()\n",
    "\n"
   ]
  },
  {
   "cell_type": "code",
   "execution_count": null,
   "metadata": {
    "collapsed": true
   },
   "outputs": [],
   "source": []
  },
  {
   "cell_type": "code",
   "execution_count": 93,
   "metadata": {},
   "outputs": [
    {
     "name": "stdout",
     "output_type": "stream",
     "text": [
      "traveltime       \n",
      "1           count    623.000000\n",
      "            mean      11.645265\n",
      "            std        3.825495\n",
      "            min        0.000000\n",
      "            25%       10.000000\n",
      "            50%       12.000000\n",
      "            75%       14.000000\n",
      "            max       20.000000\n",
      "2           count    320.000000\n",
      "            mean      11.018750\n",
      "            std        3.929587\n",
      "            min        0.000000\n",
      "            25%       10.000000\n",
      "            50%       11.000000\n",
      "            75%       13.000000\n",
      "            max       19.000000\n",
      "3           count     77.000000\n",
      "            mean      10.597403\n",
      "            std        3.961192\n",
      "            min        0.000000\n",
      "            25%        9.000000\n",
      "            50%       11.000000\n",
      "            75%       13.000000\n",
      "            max       18.000000\n",
      "4           count     24.000000\n",
      "            mean      10.166667\n",
      "            std        2.884240\n",
      "            min        0.000000\n",
      "            25%        9.750000\n",
      "            50%       10.000000\n",
      "            75%       11.000000\n",
      "            max       16.000000\n",
      "Name: G3, dtype: float64\n"
     ]
    },
    {
     "data": {
      "image/png": "[encoded data removed]",
      "text/plain": [
       "<matplotlib.figure.Figure at 0x206f0579f60>"
      ]
     },
     "metadata": {},
     "output_type": "display_data"
    }
   ],
   "source": [
    "#Analyzing traveltime\n",
    "\n",
    "print(data_personal[['traveltime','G3']].groupby('traveltime').describe()['G3'])\n",
    "\n",
    "data_personal[['traveltime','G3']].groupby('traveltime').describe()['G3'][[(1,'mean'),(2,'mean'),(3,'mean'),(4,'mean'),(1,'count'),(2,'count'),(3,'count'),(4,'count')]].unstack().plot(kind='bar', use_index='False', )\n",
    "plt.show()"
   ]
  },
  {
   "cell_type": "markdown",
   "metadata": {},
   "source": [
    "The codes are \n",
    "1 - <15 min., 2 - 15 to 30 min., 3 - 30 min. to 1 hour, or 4 - >1 hour\n",
    "\n",
    "As we can see from the counts the counts,the data is heavily skewed towards students living less than half an hour from their school. We do see a correlation where the perfromance of students living closer to school is higher than the ones living farther from the instituion. But since the data is so heavily partial to the former group, we can't considert this to be a conclusion. Thus I choose to conclude that **Student performance is not correlated with travel time**"
   ]
  },
  {
   "cell_type": "code",
   "execution_count": 94,
   "metadata": {},
   "outputs": [
    {
     "name": "stdout",
     "output_type": "stream",
     "text": [
      "studytime       \n",
      "1          count    317.000000\n",
      "           mean      10.580442\n",
      "           std        3.891405\n",
      "           min        0.000000\n",
      "           25%        9.000000\n",
      "           50%       11.000000\n",
      "           75%       13.000000\n",
      "           max       19.000000\n",
      "2          count    503.000000\n",
      "           mean      11.335984\n",
      "           std        3.772468\n",
      "           min        0.000000\n",
      "           25%       10.000000\n",
      "           50%       11.000000\n",
      "           75%       14.000000\n",
      "           max       19.000000\n",
      "3          count    162.000000\n",
      "           mean      12.493827\n",
      "           std        3.618872\n",
      "           min        0.000000\n",
      "           25%       11.000000\n",
      "           50%       13.000000\n",
      "           75%       15.000000\n",
      "           max       19.000000\n",
      "4          count     62.000000\n",
      "           mean      12.274194\n",
      "           std        4.223934\n",
      "           min        0.000000\n",
      "           25%       10.000000\n",
      "           50%       12.000000\n",
      "           75%       15.000000\n",
      "           max       20.000000\n",
      "Name: G3, dtype: float64\n"
     ]
    },
    {
     "data": {
      "image/png": "[encoded data removed]",
      "text/plain": [
       "<matplotlib.figure.Figure at 0x206eb1ce5c0>"
      ]
     },
     "metadata": {},
     "output_type": "display_data"
    }
   ],
   "source": [
    "## Analyse study time\n",
    "\n",
    "print(data_personal[['studytime','G3']].groupby('studytime').describe()['G3'])\n",
    "\n",
    "data_personal[['studytime','G3']].groupby('studytime').describe()['G3'][[(1,'mean'),(2,'mean'),(3,'mean'),(4,'mean'),(1,'count'),(2,'count'),(3,'count'),(4,'count')]].unstack().plot(kind='bar', use_index='False', )\n",
    "plt.show()\n"
   ]
  },
  {
   "cell_type": "markdown",
   "metadata": {},
   "source": [
    "Same as is the case for travel time the data here is skewed, again though it seems that **study time is positvely coorelated with performance; it can't be stated with confidence**."
   ]
  },
  {
   "cell_type": "code",
   "execution_count": 95,
   "metadata": {},
   "outputs": [
    {
     "name": "stdout",
     "output_type": "stream",
     "text": [
      "failures       \n",
      "0         count    861.000000\n",
      "          mean      12.054588\n",
      "          std        3.428071\n",
      "          min        0.000000\n",
      "          25%       10.000000\n",
      "          50%       12.000000\n",
      "          75%       14.000000\n",
      "          max       20.000000\n",
      "1         count    120.000000\n",
      "          mean       8.425000\n",
      "          std        4.009783\n",
      "          min        0.000000\n",
      "          25%        8.000000\n",
      "          50%       10.000000\n",
      "          75%       11.000000\n",
      "          max       18.000000\n",
      "2         count     33.000000\n",
      "          mean       7.484848\n",
      "          std        4.272888\n",
      "          min        0.000000\n",
      "          25%        6.000000\n",
      "          50%        8.000000\n",
      "          75%       10.000000\n",
      "          max       15.000000\n",
      "3         count     30.000000\n",
      "          mean       6.800000\n",
      "          std        3.745342\n",
      "          min        0.000000\n",
      "          25%        5.500000\n",
      "          50%        8.000000\n",
      "          75%       10.000000\n",
      "          max       11.000000\n",
      "Name: G3, dtype: float64\n"
     ]
    },
    {
     "data": {
      "image/png": "[encoded data removed]",
      "text/plain": [
       "<matplotlib.figure.Figure at 0x206ed18c9e8>"
      ]
     },
     "metadata": {},
     "output_type": "display_data"
    }
   ],
   "source": [
    "print(data_personal[['failures','G3']].groupby('failures').describe()['G3'])\n",
    "\n",
    "data_personal[['failures','G3']].groupby('failures').describe()['G3'][[(0,'mean'),(1,'mean'),(2,'mean'),(3,'mean'),(0,'count'),(1,'count'),(2,'count'),(3,'count')]].unstack().plot(kind='bar', use_index='False', )\n",
    "plt.show()"
   ]
  },
  {
   "cell_type": "markdown",
   "metadata": {},
   "source": [
    "Once again we see a huge skew of data. But this is somewhat of a normal expectation. So we need to work with what we have. Let's plot the mean scores for some further clarity\n"
   ]
  },
  {
   "cell_type": "code",
   "execution_count": 96,
   "metadata": {},
   "outputs": [
    {
     "data": {
      "image/png": "[encoded data removed]",
      "text/plain": [
       "<matplotlib.figure.Figure at 0x206f0375780>"
      ]
     },
     "metadata": {},
     "output_type": "display_data"
    }
   ],
   "source": [
    "data_personal[['failures','G3']].groupby('failures').describe()['G3'][[(0,'mean'),(1,'mean'),(2,'mean'),(3,'mean')]].unstack().plot(kind='bar', use_index='False', )\n",
    "plt.show()"
   ]
  },
  {
   "cell_type": "markdown",
   "metadata": {},
   "source": [
    "We do see a trend here. That **with an increase in number of failures, the performance of a student steadily deteriorates**. Though we don't have the data on our side, this insight does make a lot of sense. So I choose to run with it. "
   ]
  },
  {
   "cell_type": "code",
   "execution_count": 97,
   "metadata": {
    "scrolled": true
   },
   "outputs": [
    {
     "name": "stdout",
     "output_type": "stream",
     "text": [
      "paid       \n",
      "no    count    824.000000\n",
      "      mean      11.440534\n",
      "      std        3.919464\n",
      "      min        0.000000\n",
      "      25%       10.000000\n",
      "      50%       12.000000\n",
      "      75%       14.000000\n",
      "      max       20.000000\n",
      "yes   count    220.000000\n",
      "      mean      10.972727\n",
      "      std        3.637599\n",
      "      min        0.000000\n",
      "      25%        9.000000\n",
      "      50%       11.000000\n",
      "      75%       13.000000\n",
      "      max       19.000000\n",
      "Name: G3, dtype: float64\n"
     ]
    },
    {
     "data": {
      "image/png": "[encoded data removed]",
      "text/plain": [
       "<matplotlib.figure.Figure at 0x206f04a9198>"
      ]
     },
     "metadata": {},
     "output_type": "display_data"
    }
   ],
   "source": [
    "#Analysis of the effect of extra classes on student's performance\n",
    "\n",
    "print(data_personal[['paid','G3']].groupby('paid').describe()['G3'])\n",
    "\n",
    "data_personal[['paid','G3']].groupby('paid').describe()['G3'][[('no','mean'),('yes','mean'),('no','count'),('yes','count')]].unstack().plot(kind='bar', use_index='False', )\n",
    "plt.show()"
   ]
  },
  {
   "cell_type": "markdown",
   "metadata": {},
   "source": [
    "One might assume that students with extra paid classes might perform better, but that is not the case. One reason for this is in fact that a lower performance could be the reason why the student chose for extra tution in the first place. This is substantiated by the fact that ***students without extra classes tend to perform better than students with extra classes***, but because of the data skew, it's not safe to assume anything"
   ]
  },
  {
   "cell_type": "code",
   "execution_count": 98,
   "metadata": {},
   "outputs": [
    {
     "name": "stdout",
     "output_type": "stream",
     "text": [
      "activities       \n",
      "no          count    528.000000\n",
      "            mean      11.212121\n",
      "            std        3.799092\n",
      "            min        0.000000\n",
      "            25%       10.000000\n",
      "            50%       11.000000\n",
      "            75%       14.000000\n",
      "            max       19.000000\n",
      "yes         count    516.000000\n",
      "            mean      11.474806\n",
      "            std        3.930136\n",
      "            min        0.000000\n",
      "            25%       10.000000\n",
      "            50%       12.000000\n",
      "            75%       14.000000\n",
      "            max       20.000000\n",
      "Name: G3, dtype: float64\n"
     ]
    },
    {
     "data": {
      "image/png": "[encoded data removed]",
      "text/plain": [
       "<matplotlib.figure.Figure at 0x206eb081898>"
      ]
     },
     "metadata": {},
     "output_type": "display_data"
    }
   ],
   "source": [
    "#Analysis of the effect of extra curricular on student's performance\n",
    "\n",
    "print(data_personal[['activities','G3']].groupby('activities').describe()['G3'])\n",
    "\n",
    "data_personal[['activities','G3']].groupby('activities').describe()['G3'][[('no','mean'),('yes','mean'),('no','count'),('yes','count')]].unstack().plot(kind='bar', use_index='False', )\n",
    "plt.show()"
   ]
  },
  {
   "cell_type": "markdown",
   "metadata": {},
   "source": [
    "As we can see students perform more or less the same regardless of their participation in extracurricullar activites. **Students tend to perform nominally better when they do engage in extra curricular activities**, this could be explained by the addition of a supportive peer group, and the confidence/motivation gained by participating in said activities"
   ]
  },
  {
   "cell_type": "code",
   "execution_count": 99,
   "metadata": {},
   "outputs": [
    {
     "name": "stdout",
     "output_type": "stream",
     "text": [
      "nursery       \n",
      "no       count    209.000000\n",
      "         mean      11.033493\n",
      "         std        3.776678\n",
      "         min        0.000000\n",
      "         25%       10.000000\n",
      "         50%       11.000000\n",
      "         75%       13.000000\n",
      "         max       19.000000\n",
      "yes      count    835.000000\n",
      "         mean      11.419162\n",
      "         std        3.884930\n",
      "         min        0.000000\n",
      "         25%       10.000000\n",
      "         50%       12.000000\n",
      "         75%       14.000000\n",
      "         max       20.000000\n",
      "Name: G3, dtype: float64\n"
     ]
    },
    {
     "data": {
      "image/png": "[encoded data removed]",
      "text/plain": [
       "<matplotlib.figure.Figure at 0x206ebffe470>"
      ]
     },
     "metadata": {},
     "output_type": "display_data"
    }
   ],
   "source": [
    "#Analysis of the effect of nursery education on student's performance\n",
    "\n",
    "print(data_personal[['nursery','G3']].groupby('nursery').describe()['G3'])\n",
    "\n",
    "data_personal[['nursery','G3']].groupby('nursery').describe()['G3'][[('no','mean'),('yes','mean'),('no','count'),('yes','count')]].unstack().plot(kind='bar', use_index='False', )\n",
    "plt.show()"
   ]
  },
  {
   "cell_type": "markdown",
   "metadata": {},
   "source": [
    "As we can see that the number of students who have had a nursery education far exceed those who have not. But regardless of that the performance seems to be pretty much similare, thus we conclude that **Nursery education has no significance over student performance**"
   ]
  },
  {
   "cell_type": "code",
   "execution_count": 100,
   "metadata": {},
   "outputs": [
    {
     "name": "stdout",
     "output_type": "stream",
     "text": [
      "higher       \n",
      "no      count     89.000000\n",
      "        mean       8.348315\n",
      "        std        3.545487\n",
      "        min        0.000000\n",
      "        25%        8.000000\n",
      "        50%        9.000000\n",
      "        75%       10.000000\n",
      "        max       14.000000\n",
      "yes     count    955.000000\n",
      "        mean      11.620942\n",
      "        std        3.775789\n",
      "        min        0.000000\n",
      "        25%       10.000000\n",
      "        50%       12.000000\n",
      "        75%       14.000000\n",
      "        max       20.000000\n",
      "Name: G3, dtype: float64\n"
     ]
    },
    {
     "data": {
      "image/png": "[encoded data removed]",
      "text/plain": [
       "<matplotlib.figure.Figure at 0x206eb1d4630>"
      ]
     },
     "metadata": {},
     "output_type": "display_data"
    }
   ],
   "source": [
    "print(data_personal[['higher','G3']].groupby('higher').describe()['G3'])\n",
    "\n",
    "data_personal[['higher','G3']].groupby('higher').describe()['G3'][[('no','mean'),('yes','mean'),('no','count'),('yes','count')]].unstack().plot(kind='bar', use_index='False', )\n",
    "plt.show()"
   ]
  },
  {
   "cell_type": "markdown",
   "metadata": {},
   "source": [
    "As we see from the given data, **the intent to pursue higher education does indicate a better performance** but that could be just because of the skew in the data. So we can't conclude anything from it"
   ]
  },
  {
   "cell_type": "code",
   "execution_count": 101,
   "metadata": {},
   "outputs": [
    {
     "name": "stdout",
     "output_type": "stream",
     "text": [
      "internet       \n",
      "no        count    217.000000\n",
      "          mean      10.534562\n",
      "          std        3.855006\n",
      "          min        0.000000\n",
      "          25%        9.000000\n",
      "          50%       11.000000\n",
      "          75%       13.000000\n",
      "          max       19.000000\n",
      "yes       count    827.000000\n",
      "          mean      11.553809\n",
      "          std        3.841653\n",
      "          min        0.000000\n",
      "          25%       10.000000\n",
      "          50%       12.000000\n",
      "          75%       14.000000\n",
      "          max       20.000000\n",
      "Name: G3, dtype: float64\n"
     ]
    },
    {
     "data": {
      "image/png": "[encoded data removed]",
      "text/plain": [
       "<matplotlib.figure.Figure at 0x206eaff5a90>"
      ]
     },
     "metadata": {},
     "output_type": "display_data"
    }
   ],
   "source": [
    "print(data_personal[['internet','G3']].groupby('internet').describe()['G3'])\n",
    "\n",
    "data_personal[['internet','G3']].groupby('internet').describe()['G3'][[('no','mean'),('yes','mean'),('no','count'),('yes','count')]].unstack().plot(kind='bar', use_index='False', )\n",
    "plt.show()"
   ]
  },
  {
   "cell_type": "markdown",
   "metadata": {},
   "source": [
    "As we see from the given data, **the presence of an internet connection does indicate a better performance** but that could be just because of the skew in the data. So we can't conclude anything from it"
   ]
  },
  {
   "cell_type": "code",
   "execution_count": 102,
   "metadata": {},
   "outputs": [
    {
     "name": "stdout",
     "output_type": "stream",
     "text": [
      "romantic       \n",
      "no        count    673.000000\n",
      "          mean      11.624071\n",
      "          std        3.659196\n",
      "          min        0.000000\n",
      "          25%       10.000000\n",
      "          50%       12.000000\n",
      "          75%       14.000000\n",
      "          max       20.000000\n",
      "yes       count    371.000000\n",
      "          mean      10.830189\n",
      "          std        4.168836\n",
      "          min        0.000000\n",
      "          25%        9.000000\n",
      "          50%       11.000000\n",
      "          75%       14.000000\n",
      "          max       18.000000\n",
      "Name: G3, dtype: float64\n"
     ]
    },
    {
     "data": {
      "image/png": "[encoded data removed]",
      "text/plain": [
       "<matplotlib.figure.Figure at 0x206ed1a1eb8>"
      ]
     },
     "metadata": {},
     "output_type": "display_data"
    }
   ],
   "source": [
    "print(data_personal[['romantic','G3']].groupby('romantic').describe()['G3'])\n",
    "\n",
    "data_personal[['romantic','G3']].groupby('romantic').describe()['G3'][[('no','mean'),('yes','mean'),('no','count'),('yes','count')]].unstack().plot(kind='bar', use_index='False', )\n",
    "plt.show()"
   ]
  },
  {
   "cell_type": "markdown",
   "metadata": {},
   "source": [
    "As we see from the given data, ** romantic entaglement indicates a better performance** but that could be just because of the skew in the data. So we can't conclude anything from it"
   ]
  },
  {
   "cell_type": "code",
   "execution_count": 103,
   "metadata": {},
   "outputs": [
    {
     "name": "stdout",
     "output_type": "stream",
     "text": [
      "freetime       \n",
      "1         count     64.000000\n",
      "          mean      11.171875\n",
      "          std        3.401935\n",
      "          min        0.000000\n",
      "          25%       10.000000\n",
      "          50%       11.000000\n",
      "          75%       13.000000\n",
      "          max       19.000000\n",
      "2         count    171.000000\n",
      "          mean      12.280702\n",
      "          std        3.790488\n",
      "          min        0.000000\n",
      "          25%       11.000000\n",
      "          50%       13.000000\n",
      "          75%       15.000000\n",
      "          max       20.000000\n",
      "3         count    408.000000\n",
      "          mean      11.183824\n",
      "          std        3.965209\n",
      "          min        0.000000\n",
      "          25%       10.000000\n",
      "          50%       11.000000\n",
      "          75%       14.000000\n",
      "          max       19.000000\n",
      "4         count    293.000000\n",
      "          mean      11.208191\n",
      "          std        3.662238\n",
      "          min        0.000000\n",
      "          25%       10.000000\n",
      "          50%       11.000000\n",
      "          75%       14.000000\n",
      "          max       19.000000\n",
      "5         count    108.000000\n",
      "          mean      10.916667\n",
      "          std        4.218617\n",
      "          min        0.000000\n",
      "          25%        9.000000\n",
      "          50%       11.000000\n",
      "          75%       14.000000\n",
      "          max       19.000000\n",
      "Name: G3, dtype: float64\n"
     ]
    },
    {
     "data": {
      "image/png": "[encoded data removed]",
      "text/plain": [
       "<matplotlib.figure.Figure at 0x206f04c5b00>"
      ]
     },
     "metadata": {},
     "output_type": "display_data"
    }
   ],
   "source": [
    "print(data_personal[['freetime','G3']].groupby('freetime').describe()['G3'])\n",
    "\n",
    "data_personal[['freetime','G3']].groupby('freetime').describe()['G3'][[(1,'mean'),(2,'mean'),(3,'mean'),(4,'mean'),(5,'mean'),(1,'count'),(2,'count'),(3,'count'),(4,'count'),(5,'count')]].unstack().plot(kind='bar', use_index='False', )\n",
    "plt.show()"
   ]
  },
  {
   "cell_type": "markdown",
   "metadata": {},
   "source": [
    "We do see an interesting statistic here, comapring the 2(less free time) cataegory to the 5(lots of free time), The performance of a student in the former group is markedly better than the one in the latter. So **Surprisingly, having lots of free time somehow negatively correlates with student performance** "
   ]
  },
  {
   "cell_type": "code",
   "execution_count": 104,
   "metadata": {},
   "outputs": [
    {
     "name": "stdout",
     "output_type": "stream",
     "text": [
      "health       \n",
      "1       count    137.000000\n",
      "        mean      12.270073\n",
      "        std        3.669235\n",
      "        min        0.000000\n",
      "        25%       10.000000\n",
      "        50%       13.000000\n",
      "        75%       15.000000\n",
      "        max       19.000000\n",
      "2       count    123.000000\n",
      "        mean      11.471545\n",
      "        std        4.321743\n",
      "        min        0.000000\n",
      "        25%       10.000000\n",
      "        50%       12.000000\n",
      "        75%       14.000000\n",
      "        max       20.000000\n",
      "3       count    215.000000\n",
      "        mean      11.065116\n",
      "        std        3.719793\n",
      "        min        0.000000\n",
      "        25%       10.000000\n",
      "        50%       11.000000\n",
      "        75%       13.000000\n",
      "        max       19.000000\n",
      "4       count    174.000000\n",
      "        mean      11.471264\n",
      "        std        3.951554\n",
      "        min        0.000000\n",
      "        25%       10.000000\n",
      "        50%       12.000000\n",
      "        75%       14.000000\n",
      "        max       19.000000\n",
      "5       count    395.000000\n",
      "        mean      11.073418\n",
      "        std        3.783101\n",
      "        min        0.000000\n",
      "        25%       10.000000\n",
      "        50%       11.000000\n",
      "        75%       13.000000\n",
      "        max       18.000000\n",
      "Name: G3, dtype: float64\n"
     ]
    },
    {
     "data": {
      "image/png": "[encoded data removed]",
      "text/plain": [
       "<matplotlib.figure.Figure at 0x206f0509f60>"
      ]
     },
     "metadata": {},
     "output_type": "display_data"
    }
   ],
   "source": [
    "print(data_personal[['health','G3']].groupby('health').describe()['G3'])\n",
    "\n",
    "data_personal[['health','G3']].groupby('health').describe()['G3'][[(1,'mean'),(2,'mean'),(3,'mean'),(4,'mean'),(5,'mean'),(1,'count'),(2,'count'),(3,'count'),(4,'count'),(5,'count')]].unstack().plot(kind='bar', use_index='False', )\n",
    "plt.show()"
   ]
  },
  {
   "cell_type": "markdown",
   "metadata": {},
   "source": [
    "Here the data seems to be more or less equally distributed amongst the various cataegories, with a slight bias to the very healthy cataegory. Let's plot their mean scores seperately. "
   ]
  },
  {
   "cell_type": "code",
   "execution_count": 105,
   "metadata": {},
   "outputs": [
    {
     "data": {
      "image/png": "[encoded data removed]",
      "text/plain": [
       "<matplotlib.figure.Figure at 0x206f0604a58>"
      ]
     },
     "metadata": {},
     "output_type": "display_data"
    }
   ],
   "source": [
    "data_personal[['health','G3']].groupby('health').describe()['G3'][[(1,'mean'),(2,'mean'),(3,'mean'),(4,'mean'),(5,'mean')]].unstack().plot(kind='bar', use_index='False', )\n",
    "plt.show()"
   ]
  },
  {
   "cell_type": "markdown",
   "metadata": {},
   "source": [
    "So here we are able to uncover a very surprising insight. **Amazingly students who are the least healthiest tend to perform better than rest of the group** This feels really counter intuitive to our perception. "
   ]
  },
  {
   "cell_type": "code",
   "execution_count": 106,
   "metadata": {},
   "outputs": [
    {
     "name": "stdout",
     "output_type": "stream",
     "text": [
      "goout       \n",
      "1      count     71.000000\n",
      "       mean      10.450704\n",
      "       std        4.364757\n",
      "       min        0.000000\n",
      "       25%        9.500000\n",
      "       50%       11.000000\n",
      "       75%       13.500000\n",
      "       max       17.000000\n",
      "2      count    248.000000\n",
      "       mean      12.056452\n",
      "       std        3.858431\n",
      "       min        0.000000\n",
      "       25%       10.000000\n",
      "       50%       12.000000\n",
      "       75%       15.000000\n",
      "       max       20.000000\n",
      "3      count    335.000000\n",
      "       mean      11.689552\n",
      "       std        3.511194\n",
      "       min        0.000000\n",
      "       25%       10.000000\n",
      "       50%       12.000000\n",
      "       75%       14.000000\n",
      "       max       19.000000\n",
      "4      count    227.000000\n",
      "       mean      11.092511\n",
      "       std        3.680285\n",
      "       min        0.000000\n",
      "       25%        9.000000\n",
      "       50%       11.000000\n",
      "       75%       13.000000\n",
      "       max       19.000000\n",
      "5      count    163.000000\n",
      "       mean      10.276074\n",
      "       std        4.279276\n",
      "       min        0.000000\n",
      "       25%        9.000000\n",
      "       50%       11.000000\n",
      "       75%       13.000000\n",
      "       max       18.000000\n",
      "Name: G3, dtype: float64\n"
     ]
    },
    {
     "data": {
      "image/png": "[encoded data removed]",
      "text/plain": [
       "<matplotlib.figure.Figure at 0x206f0543cc0>"
      ]
     },
     "metadata": {},
     "output_type": "display_data"
    }
   ],
   "source": [
    "print(data_personal[['goout','G3']].groupby('goout').describe()['G3'])\n",
    "\n",
    "data_personal[['goout','G3']].groupby('goout').describe()['G3'][[(1,'mean'),(2,'mean'),(3,'mean'),(4,'mean'),(5,'mean'),(1,'count'),(2,'count'),(3,'count'),(4,'count'),(5,'count')]].unstack().plot(kind='bar', use_index='False', )\n",
    "plt.show()"
   ]
  },
  {
   "cell_type": "markdown",
   "metadata": {},
   "source": [
    "This data is interesting to examine because a **extremely low rate of social interaction (1) or an extremly high one(5) both tend to a lower student performance. So a student who goes out moderately (2/3) will presumably perform better** "
   ]
  },
  {
   "cell_type": "code",
   "execution_count": 107,
   "metadata": {},
   "outputs": [
    {
     "name": "stdout",
     "output_type": "stream",
     "text": [
      "Dalc       \n",
      "1     count    727.000000\n",
      "      mean      11.704264\n",
      "      std        3.851124\n",
      "      min        0.000000\n",
      "      25%       10.000000\n",
      "      50%       12.000000\n",
      "      75%       14.000000\n",
      "      max       20.000000\n",
      "2     count    196.000000\n",
      "      mean      10.556122\n",
      "      std        4.082723\n",
      "      min        0.000000\n",
      "      25%        9.000000\n",
      "      50%       11.000000\n",
      "      75%       13.000000\n",
      "      max       18.000000\n",
      "3     count     69.000000\n",
      "      mean      10.898551\n",
      "      std        2.755449\n",
      "      min        0.000000\n",
      "      25%       10.000000\n",
      "      50%       10.000000\n",
      "      75%       12.000000\n",
      "      max       18.000000\n",
      "4     count     26.000000\n",
      "      mean       9.269231\n",
      "      std        4.386869\n",
      "      min        0.000000\n",
      "      25%        9.000000\n",
      "      50%       11.000000\n",
      "      75%       12.000000\n",
      "      max       14.000000\n",
      "5     count     26.000000\n",
      "      mean      10.384615\n",
      "      std        2.815343\n",
      "      min        5.000000\n",
      "      25%        9.000000\n",
      "      50%       11.000000\n",
      "      75%       12.000000\n",
      "      max       16.000000\n",
      "Name: G3, dtype: float64\n"
     ]
    },
    {
     "data": {
      "image/png": "[encoded data removed]",
      "text/plain": [
       "<matplotlib.figure.Figure at 0x206f0548240>"
      ]
     },
     "metadata": {},
     "output_type": "display_data"
    }
   ],
   "source": [
    "print(data_personal[['Dalc','G3']].groupby('Dalc').describe()['G3'])\n",
    "\n",
    "data_personal[['Dalc','G3']].groupby('Dalc').describe()['G3'][[(1,'mean'),(2,'mean'),(3,'mean'),(4,'mean'),(5,'mean'),(1,'count'),(2,'count'),(3,'count'),(4,'count'),(5,'count')]].unstack().plot(kind='bar', use_index='False', )\n",
    "plt.show()"
   ]
  },
  {
   "cell_type": "markdown",
   "metadata": {},
   "source": [
    "Not much can be said about this. Though **students with lesser alcohol intake perform better** but since majority of students choose to drink very less during a weekday the data is highly skewed to draw any conclusions. "
   ]
  },
  {
   "cell_type": "code",
   "execution_count": 108,
   "metadata": {},
   "outputs": [
    {
     "name": "stdout",
     "output_type": "stream",
     "text": [
      "Walc       \n",
      "1     count    398.000000\n",
      "      mean      11.743719\n",
      "      std        4.046287\n",
      "      min        0.000000\n",
      "      25%       10.000000\n",
      "      50%       12.000000\n",
      "      75%       14.000000\n",
      "      max       20.000000\n",
      "2     count    235.000000\n",
      "      mean      11.472340\n",
      "      std        3.994960\n",
      "      min        0.000000\n",
      "      25%       10.000000\n",
      "      50%       12.000000\n",
      "      75%       14.000000\n",
      "      max       19.000000\n",
      "3     count    200.000000\n",
      "      mean      11.290000\n",
      "      std        3.685623\n",
      "      min        0.000000\n",
      "      25%       10.000000\n",
      "      50%       11.500000\n",
      "      75%       14.000000\n",
      "      max       18.000000\n",
      "4     count    138.000000\n",
      "      mean      10.536232\n",
      "      std        3.185642\n",
      "      min        0.000000\n",
      "      25%        9.000000\n",
      "      50%       11.000000\n",
      "      75%       12.000000\n",
      "      max       19.000000\n",
      "5     count     73.000000\n",
      "      mean      10.397260\n",
      "      std        3.777638\n",
      "      min        0.000000\n",
      "      25%        9.000000\n",
      "      50%       11.000000\n",
      "      75%       12.000000\n",
      "      max       18.000000\n",
      "Name: G3, dtype: float64\n"
     ]
    },
    {
     "data": {
      "image/png": "[encoded data removed]",
      "text/plain": [
       "<matplotlib.figure.Figure at 0x206f05bfac8>"
      ]
     },
     "metadata": {},
     "output_type": "display_data"
    }
   ],
   "source": [
    "print(data_personal[['Walc','G3']].groupby('Walc').describe()['G3'])\n",
    "\n",
    "data_personal[['Walc','G3']].groupby('Walc').describe()['G3'][[(1,'mean'),(2,'mean'),(3,'mean'),(4,'mean'),(5,'mean'),(1,'count'),(2,'count'),(3,'count'),(4,'count'),(5,'count')]].unstack().plot(kind='bar', use_index='False', )\n",
    "plt.show()"
   ]
  },
  {
   "cell_type": "markdown",
   "metadata": {},
   "source": [
    "The conclusion drawn for Dalc holds here too. But we can conclude with higher confidence given the spread of data."
   ]
  },
  {
   "cell_type": "markdown",
   "metadata": {},
   "source": [
    "### <u> Group 3: Conclusions</u>\n",
    "\n",
    "**While considering these insights please keep in mind that the data for this group was heavily biased in most cases**\n",
    "\n",
    "1. Students with lesser alcohol intake perform better (Daily/weekly)\n",
    "<br><br>\n",
    "2. Extremely low rate of social interaction (1) or an extremly high one(5) both tend to a lower student performance. So a student who goes out moderately (2/3) will presumably perform better\n",
    "<br><br>\n",
    "3. Amazingly students who are the least healthiest tend to perform better than rest of the group\n",
    "<br><br>\n",
    "4. Surprisingly, having lots of free time somehow negatively correlates with student performance\n",
    "<br><br>\n",
    "5. Romantic entaglement indicates a better performance\n",
    "<br><br>\n",
    "6. The intent to pursue higher education does indicate a better performance\n",
    "<br><br>\n",
    "7. Students tend to perform nominally better when they do engage in extra curricular activities\n",
    "<br><br>\n",
    "8. Students without extra classes tend to perform better than students with extra classes\n",
    "<br><br>\n",
    "9. With an increase in number of failures, the performance of a student steadily deteriorates\n",
    "<br><br>\n",
    "10. Study time is positvely coorelated with performance"
   ]
  },
  {
   "cell_type": "markdown",
   "metadata": {},
   "source": [
    "### <u>Group 4: Schools</u>\n",
    "\n",
    "Unfortunately we don't have a lot of data about the parameters of the school. We have two, the name of the school and does it support extra classes, so let's focus on that"
   ]
  },
  {
   "cell_type": "code",
   "execution_count": 109,
   "metadata": {
    "collapsed": true
   },
   "outputs": [],
   "source": [
    "data_school = data.ix[:,['school','schoolsup','G3']]\n",
    "\n",
    "data_school['school'] = data_school['school'].str.strip()\n",
    "data_school['schoolsup'] = data_school['schoolsup'].str.strip()"
   ]
  },
  {
   "cell_type": "code",
   "execution_count": 110,
   "metadata": {},
   "outputs": [
    {
     "name": "stdout",
     "output_type": "stream",
     "text": [
      "school       \n",
      "GP      count    772.000000\n",
      "        mean      11.633420\n",
      "        std        3.809208\n",
      "        min        0.000000\n",
      "        25%       10.000000\n",
      "        50%       12.000000\n",
      "        75%       14.000000\n",
      "        max       20.000000\n",
      "MS      count    272.000000\n",
      "        mean      10.514706\n",
      "        std        3.908521\n",
      "        min        0.000000\n",
      "        25%        9.000000\n",
      "        50%       10.000000\n",
      "        75%       13.000000\n",
      "        max       19.000000\n",
      "Name: G3, dtype: float64\n"
     ]
    },
    {
     "data": {
      "image/png": "[encoded data removed]",
      "text/plain": [
       "<matplotlib.figure.Figure at 0x206f04c01d0>"
      ]
     },
     "metadata": {},
     "output_type": "display_data"
    }
   ],
   "source": [
    "print(data_school[['school','G3']].groupby('school').describe()['G3'])\n",
    "\n",
    "data_school[['school','G3']].groupby('school').describe()['G3'][[('GP','mean'),('MS','mean'),('GP','count'),('MS','count')]].unstack().plot(kind='bar', use_index='False', )\n",
    "plt.show()"
   ]
  },
  {
   "cell_type": "markdown",
   "metadata": {},
   "source": [
    "All we can conclude from this is that the the predomiant school in the area is GP. Though students from there tend to perform better this could again be because of data skew. "
   ]
  },
  {
   "cell_type": "code",
   "execution_count": 111,
   "metadata": {},
   "outputs": [
    {
     "name": "stdout",
     "output_type": "stream",
     "text": [
      "schoolsup       \n",
      "no         count    925.000000\n",
      "           mean      11.451892\n",
      "           std        3.977087\n",
      "           min        0.000000\n",
      "           25%       10.000000\n",
      "           50%       12.000000\n",
      "           75%       14.000000\n",
      "           max       20.000000\n",
      "yes        count    119.000000\n",
      "           mean      10.487395\n",
      "           std        2.708635\n",
      "           min        0.000000\n",
      "           25%        9.000000\n",
      "           50%       11.000000\n",
      "           75%       12.000000\n",
      "           max       18.000000\n",
      "Name: G3, dtype: float64\n"
     ]
    },
    {
     "data": {
      "image/png": "[encoded data removed]",
      "text/plain": [
       "<matplotlib.figure.Figure at 0x206f050ee10>"
      ]
     },
     "metadata": {},
     "output_type": "display_data"
    }
   ],
   "source": [
    "print(data_school[['schoolsup','G3']].groupby('schoolsup').describe()['G3'])\n",
    "\n",
    "data_school[['schoolsup','G3']].groupby('schoolsup').describe()['G3'][[('no','mean'),('yes','mean'),('no','count'),('yes','count')]].unstack().plot(kind='bar', use_index='False', )\n",
    "plt.show()"
   ]
  },
  {
   "cell_type": "markdown",
   "metadata": {},
   "source": [
    "Students in the schools and courses that support extra classes do tend to perform better than other students but yet again the data is skewed in their favor. "
   ]
  },
  {
   "cell_type": "markdown",
   "metadata": {},
   "source": [
    "## <u>**Section 1: Conclusions**</u>"
   ]
  },
  {
   "cell_type": "markdown",
   "metadata": {},
   "source": [
    "Aggregating all our conclusions we get the following list of insights\n",
    "\n",
    "\n",
    "1. Gender has no influence on student performance\n",
    "<br><br>\n",
    "2. Age has no influence on student performance.\n",
    "<br><br>\n",
    "3. Very few enrollments by students older than 18 years.\n",
    "<br><br>\n",
    "\n",
    "4. The presence of absence of Family support has no influence on Student performance\n",
    "<br>\n",
    "<br>\n",
    "5. We can't assume any correlation exists between family relations and student performance\n",
    "<br>\n",
    "<br>\n",
    "6. Jobs in health sector and education sector correlate to a better student performance.\n",
    "<br>\n",
    "<br>\n",
    "7. The higher the parent's education, the better the student's performance\n",
    "<br>\n",
    "<br>\n",
    "8. It is more likely that women will pursue secondary and higher education than men. 52% of women have chosen to pursue secondary or higher education compared to 43% of the men\n",
    "<br>\n",
    "<br>\n",
    "9.  Only 10% of the male populations are into these specialized sectors(health and education), compared to 20% of the female population. This also confirms the fact that women tend to be better educated than men, since a higher education is a prerequisite for entry in such sectors\n",
    "<br>\n",
    "<br>\n",
    "10. Parent's cohabitation status has no effect on student performance\n",
    "<br>\n",
    "<br>\n",
    "11. Family size has no impact on student performance.\n",
    "<br><br>\n",
    "\n",
    "12. Students with lesser alcohol intake perform better (Daily/weekly)\n",
    "<br><br>\n",
    "13. Extremely low rate of social interaction (1) or an extremly high one(5) both tend to a lower student performance. So a student who goes out moderately (2/3) will presumably perform better\n",
    "<br><br>\n",
    "14. Amazingly students who are the least healthiest tend to perform better than rest of the group\n",
    "<br><br>\n",
    "15. Surprisingly, having lots of free time somehow negatively correlates with student performance\n",
    "<br><br>\n",
    "16. Romantic entaglement indicates a better performance\n",
    "<br><br>\n",
    "17. The intent to pursue higher education does indicate a better performance\n",
    "<br><br>\n",
    "18. Students tend to perform nominally better when they do engage in extra curricular activities\n",
    "<br><br>\n",
    "19. Students without extra classes tend to perform better than students with extra classes\n",
    "<br><br>\n",
    "20. With an increase in number of failures, the performance of a student steadily deteriorates\n",
    "<br><br>\n",
    "21. Study time is positvely coorelated with performance"
   ]
  },
  {
   "cell_type": "markdown",
   "metadata": {},
   "source": [
    "## <u> Section 2: Modelling </u>"
   ]
  },
  {
   "cell_type": "markdown",
   "metadata": {},
   "source": [
    "So to reiterate, the goal of this exercise is to to predict whether a student is likely to fail the third grade G3. Irrespective of the model we choose, we need to first choose a set of features from the data that we need to give as input to the model. Let's check out the correlation of the features with G3"
   ]
  },
  {
   "cell_type": "code",
   "execution_count": 112,
   "metadata": {},
   "outputs": [
    {
     "data": {
      "image/png": "[encoded data removed]",
      "text/plain": [
       "<matplotlib.figure.Figure at 0x206ed1943c8>"
      ]
     },
     "metadata": {},
     "output_type": "display_data"
    }
   ],
   "source": [
    "import seaborn as sns\n",
    "\n",
    "corr = data.corr()\n",
    "\n",
    "sns.heatmap(corr, fmt=\"g\", cmap='RdYlGn')\n",
    "plt.show()"
   ]
  },
  {
   "cell_type": "markdown",
   "metadata": {},
   "source": [
    "The heatmap more or less confirms the analysis we have done before, we see that G3 is postively correlated with the parent's education, studytime. It is negatively correlated with the number of failures. Also there is a very strong correlation of G3, with the previous year's performance grades. One thing to note is that this works only on numerical data. Let's make a few adjustments to the code to get it to work on all columns"
   ]
  },
  {
   "cell_type": "code",
   "execution_count": 113,
   "metadata": {},
   "outputs": [
    {
     "data": {
      "image/png": "[encoded data removed]",
      "text/plain": [
       "<matplotlib.figure.Figure at 0x206f05836a0>"
      ]
     },
     "metadata": {},
     "output_type": "display_data"
    }
   ],
   "source": [
    "data_enc = data.copy()\n",
    "\n",
    "\n",
    "data_enc['school']=data_enc['school'].astype('category')\n",
    "data_enc['sex']=data_enc['sex'].astype('category')\n",
    "data_enc['address']=data_enc['address'].astype('category')\n",
    "data_enc['famsize']=data_enc['famsize'].astype('category')\n",
    "data_enc['Pstatus']=data_enc['Pstatus'].astype('category')\n",
    "data_enc['Mjob']=data_enc['Mjob'].astype('category')\n",
    "data_enc['Fjob']=data_enc['Fjob'].astype('category')\n",
    "data_enc['schoolsup']=data_enc['schoolsup'].astype('category')\n",
    "data_enc['famsup']= data_enc['famsup'].astype('category') \n",
    "data_enc['paid']=data_enc['paid'].astype('category')\n",
    "data_enc['activities']=data_enc['activities'].astype('category')\n",
    "data_enc['nursery']=data_enc['nursery'].astype('category')\n",
    "data_enc['higher']=data_enc['higher'].astype('category')\n",
    "data_enc['internet']=data_enc['internet'].astype('category')\n",
    "data_enc['romantic']=data_enc['romantic'].astype('category')\n",
    "data_enc['health']= data_enc['health'].astype('category')\n",
    "data_enc['Medu'] = data_enc['Medu'].astype('category')\n",
    "data_enc['Fedu'] = data_enc['Fedu'].astype('category')\n",
    "data_enc['traveltime'] = data_enc['traveltime'].astype('category')\n",
    "data_enc['studytime'] = data_enc['studytime'].astype('category')\n",
    "data_enc['failures'] = data_enc['failures'].astype('category')\n",
    "data_enc['famrel'] = data_enc['famrel'].astype('category')\n",
    "data_enc['freetime'] = data_enc['freetime'].astype('category')\n",
    "data_enc['goout'] = data_enc['goout'].astype('category')\n",
    "data_enc['Dalc'] = data_enc['Dalc'].astype('category')\n",
    "data_enc['Walc'] = data_enc['Walc'].astype('category')\n",
    "data_enc['health'] = data_enc['health'].astype('category')    \n",
    "\n",
    "\n",
    "cat_columns = data_enc.select_dtypes(['category']).columns\n",
    "data_enc[cat_columns] = data_enc[cat_columns].apply(lambda x: x.cat.codes)\n",
    "corr = data_enc.corr()\n",
    "\n",
    "sns.heatmap(corr, fmt=\"g\", cmap='RdYlGn')\n",
    "plt.show()"
   ]
  },
  {
   "cell_type": "markdown",
   "metadata": {},
   "source": [
    "This provides a much more comprehensive view about our data. As we can see G3 is predominantly correlated to G1 and G2. Also there are weak correlations to quite a lot of the remaining data, noticeably sex, address,Medu, Mjob,Fjob, studytime, failures, higher and intenet. As explained above some of these correlations could be just because inherent skews in our data."
   ]
  },
  {
   "cell_type": "markdown",
   "metadata": {},
   "source": [
    "### <u> Model 1 </u>\n",
    "\n",
    "The first model we create is a simple regression model that uses only the main independent factors G1 and G2 to predict G3. \n"
   ]
  },
  {
   "cell_type": "code",
   "execution_count": 114,
   "metadata": {},
   "outputs": [
    {
     "data": {
      "image/png": "[encoded data removed]",
      "text/plain": [
       "<matplotlib.figure.Figure at 0x206f037c390>"
      ]
     },
     "metadata": {},
     "output_type": "display_data"
    }
   ],
   "source": [
    "data_G12_X = data.iloc[:,-3:-1]\n",
    "data_G12_y = data.iloc[:,-1]\n",
    "\n",
    "\n",
    "data_G12_y.to_frame().plot.hist(label = 'G3')\n",
    "data_G12_X['G1'].plot.hist(label = 'G1')\n",
    "data_G12_X['G2'].plot.hist(label = 'G2')\n",
    "\n",
    "plt.legend()\n",
    "plt.show()"
   ]
  },
  {
   "cell_type": "code",
   "execution_count": 115,
   "metadata": {
    "collapsed": true
   },
   "outputs": [],
   "source": [
    "#Splitting into training set and test set\n",
    "\n",
    "\n",
    "from sklearn.model_selection import train_test_split\n",
    "X_train, X_test, y_train, y_test = train_test_split(data_G12_X,data_G12_y,test_size=0.2,random_state=42)\n",
    "\n",
    "\n",
    "\n",
    "#Fitting SLR to training set\n",
    "from sklearn.linear_model import LinearRegression\n",
    "regressor = LinearRegression() \n",
    "regressor.fit(X_train,y_train)\n",
    "\n",
    "#Predicting Test Set Results\n",
    "y_pred = regressor.predict(X_test)"
   ]
  },
  {
   "cell_type": "markdown",
   "metadata": {},
   "source": [
    "Now let's test the accuracy of the following model"
   ]
  },
  {
   "cell_type": "code",
   "execution_count": 116,
   "metadata": {},
   "outputs": [
    {
     "data": {
      "text/plain": [
       "0.85071341035329329"
      ]
     },
     "execution_count": 116,
     "metadata": {},
     "output_type": "execute_result"
    }
   ],
   "source": [
    "#Testing the accuracy of the predictions\n",
    "from sklearn.metrics import r2_score\n",
    "r2_score(y_test,y_pred)"
   ]
  },
  {
   "cell_type": "markdown",
   "metadata": {},
   "source": [
    "We see that we've got an r2 score of .85, which is pretty good. "
   ]
  },
  {
   "cell_type": "code",
   "execution_count": 117,
   "metadata": {},
   "outputs": [
    {
     "data": {
      "text/plain": [
       "array([[ 46,   0],\n",
       "       [ 29, 134]])"
      ]
     },
     "execution_count": 117,
     "metadata": {},
     "output_type": "execute_result"
    }
   ],
   "source": [
    "#Final result is that we predict if G3 will pass or fail with >=10 pass\n",
    "\n",
    "mask1 = y_test>=10\n",
    "mask2 = y_pred>=10\n",
    "\n",
    "from sklearn.metrics import confusion_matrix\n",
    "cm = confusion_matrix(mask1, mask2)\n",
    "cm"
   ]
  },
  {
   "cell_type": "markdown",
   "metadata": {},
   "source": [
    "So as we can see from the confusion matrix, we have an **accuracy of 86.12%**. Also this model has no type I errors (Students who actually failed but were predicted to pass) which is good. There are 29 type II errors(Students who passed but were predicted to fail). Thus by using this model we can identify student who will pass or fail given their G1 and G2 scores, and offer extra coaching/attention to them"
   ]
  },
  {
   "cell_type": "markdown",
   "metadata": {},
   "source": [
    "### <u>Model 2</u>\n",
    "\n",
    "In this model, we experiment by taking other correlating factors into assumption. We will  build a decison tree and see how it goes. To choose the factors we make use of the conclusions that we drew in Section 1. "
   ]
  },
  {
   "cell_type": "code",
   "execution_count": 118,
   "metadata": {},
   "outputs": [],
   "source": [
    "# dalc walc health freetime romantic activities paid\n",
    "# data_decison = data.ix[:,['sex', 'address','Medu', 'Mjob','Fjob','studytime','failures','higher','internet','G1','G2']]\n",
    "data_decison = data.ix[:,['Dalc','Walc','health','freetime','romantic','activities','paid','Medu', 'Mjob','Fjob','studytime','failures','higher','internet','G1','G2']]\n",
    "\n",
    "data_decison_y = data.iloc[:,-1]\n",
    "\n",
    "data_decison['Mjob']=data_decison['Mjob'].astype('category')\n",
    "data_decison['Fjob']=data_decison['Fjob'].astype('category')\n",
    "data_decison['higher']=data_decison['higher'].astype('category')\n",
    "data_decison['internet']=data_decison['internet'].astype('category')\n",
    "data_decison['Medu'] = data_decison['Medu'].astype('category')\n",
    "data_decison['studytime'] = data_decison['studytime'].astype('category')\n",
    "data_decison['failures'] = data_decison['failures'].astype('category')\n",
    "data_decison['Dalc'] = data_decison['Dalc'].astype('category')\n",
    "data_decison['Walc'] = data_decison['Walc'].astype('category')\n",
    "data_decison['health'] = data_decison['health'].astype('category')\n",
    "data_decison['freetime'] = data_decison['freetime'].astype('category')\n",
    "data_decison['romantic'] = data_decison['romantic'].astype('category')\n",
    "data_decison['activities'] = data_decison['activities'].astype('category')\n",
    "data_decison['paid'] = data_decison['paid'].astype('category')\n",
    "\n",
    "data_decison['Mjob'] = data_decison['Mjob'].str.strip()\n",
    "data_decison['higher'] = data_decison['higher'].str.strip()\n",
    "data_decison['internet'] = data_decison['internet'].str.strip()\n",
    "data_decison['romantic'] = data_decison['romantic'].str.strip()\n",
    "data_decison['activities'] = data_decison['activities'].str.strip()\n",
    "data_decison['paid'] = data_decison['paid'].str.strip()\n",
    "\n",
    "\n",
    "\n",
    "data_decison_enc=pd.get_dummies(data_decison,drop_first=True)    \n"
   ]
  },
  {
   "cell_type": "code",
   "execution_count": 119,
   "metadata": {},
   "outputs": [],
   "source": [
    "#Splitting into training set and test set\n",
    "\n",
    "\n",
    "from sklearn.model_selection import train_test_split\n",
    "X_train, X_test, y_train, y_test = train_test_split(data_decison_enc,data_decison_y,test_size=0.2,random_state=42)\n",
    "\n",
    "# Fitting the DecisonTree Model to the dataset\n",
    "from sklearn.tree import DecisionTreeRegressor\n",
    "regressor = DecisionTreeRegressor(random_state = 42)\n",
    "regressor.fit(X_train,y_train)\n",
    "\n",
    "#Predicting Test Set Results\n",
    "y_pred = regressor.predict(X_test)"
   ]
  },
  {
   "cell_type": "code",
   "execution_count": 120,
   "metadata": {},
   "outputs": [
    {
     "data": {
      "text/plain": [
       "0.6467034571086856"
      ]
     },
     "execution_count": 120,
     "metadata": {},
     "output_type": "execute_result"
    }
   ],
   "source": [
    "#Testing the accuracy of the predictions\n",
    "from sklearn.metrics import r2_score\n",
    "r2_score(y_test,y_pred)"
   ]
  },
  {
   "cell_type": "markdown",
   "metadata": {},
   "source": [
    "As we see, we have a very low r2 score comparedto the one we had in the regression model. Let's try an aggregation of the decison tree viz. the random forest and see what results we get"
   ]
  },
  {
   "cell_type": "code",
   "execution_count": 121,
   "metadata": {},
   "outputs": [
    {
     "data": {
      "text/plain": [
       "0.81382485928911574"
      ]
     },
     "execution_count": 121,
     "metadata": {},
     "output_type": "execute_result"
    }
   ],
   "source": [
    "\n",
    "# Fitting the RandomForest Model to the dataset\n",
    "from sklearn.ensemble import RandomForestRegressor\n",
    "regressor = RandomForestRegressor(n_estimators = 100, random_state = 42)\n",
    "regressor.fit(X_train,y_train)\n",
    "\n",
    "#Predicting Test Set Results\n",
    "y_pred = regressor.predict(X_test)\n",
    "\n",
    "from sklearn.metrics import r2_score\n",
    "r2_score(y_test,y_pred)"
   ]
  },
  {
   "cell_type": "markdown",
   "metadata": {},
   "source": [
    "As can be seen the random forest approach leads to a significant increase in the accuracy. Let's calculate the confusion matrix for this model"
   ]
  },
  {
   "cell_type": "code",
   "execution_count": 122,
   "metadata": {},
   "outputs": [
    {
     "data": {
      "text/plain": [
       "array([[ 44,   2],\n",
       "       [ 22, 141]])"
      ]
     },
     "execution_count": 122,
     "metadata": {},
     "output_type": "execute_result"
    }
   ],
   "source": [
    "#Final result is that we predict if G3 will pass or fail with >=10 pass\n",
    "\n",
    "mask1 = y_test>=10\n",
    "mask2 = y_pred>=10\n",
    "\n",
    "from sklearn.metrics import confusion_matrix\n",
    "cm = confusion_matrix(mask1, mask2)\n",
    "cm"
   ]
  },
  {
   "cell_type": "markdown",
   "metadata": {},
   "source": [
    "So as we can see from the confusion matrix, we have an **accuracy of 88.51%**, which is better than the Model 1. As you can see taking into consideration other factors does help in increasing accuracy.  This model has 2 type I errors (Students who actually failed but were predicted to pass) which is good. There are 22 type II errors(Students who passed but were predicted to fail). Thus by using this model we can identify student who will pass or fail given their G1 and G2 scores, and offer extra coaching/attention to them\n",
    "\n",
    "So this allows us to appreciate the effort we put into Section 1. By really understanding and deep diving into the data, we are able to recognize factors that are really useful and then incorporate them into our modelling strategy."
   ]
  },
  {
   "cell_type": "markdown",
   "metadata": {},
   "source": [
    "## <u> Conclusion </u>\n",
    "\n",
    "***Phew!*** We're finally done. This exercise has taught me a lot, and I hope that's the same for anybody who reads this. It has made be appreciate the amount of effort that goes into deciphering and describing a dataset. And this dataset was actually a small one! And we've only done some preliminary analysis on this! I'm sure there are still a lot of insights that can be gathered from this dataset, and as I progress in skill, I'll be sure to come back and look for them. So in the end I'd like to thank you for sticking along till the end. I hope you enjoyed going through this exercise as much as me. \n"
   ]
  }
 ],
 "metadata": {
  "kernelspec": {
   "display_name": "Python 3",
   "language": "python",
   "name": "python3"
  },
  "language_info": {
   "codemirror_mode": {
    "name": "ipython",
    "version": 3
   },
   "file_extension": ".py",
   "mimetype": "text/x-python",
   "name": "python",
   "nbconvert_exporter": "python",
   "pygments_lexer": "ipython3",
   "version": "3.5.3"
  }
 },
 "nbformat": 4,
 "nbformat_minor": 2
}
